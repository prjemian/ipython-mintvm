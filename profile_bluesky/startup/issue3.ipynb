{
 "cells": [
  {
   "cell_type": "markdown",
   "metadata": {},
   "source": [
    "# the `BusyFlyerMixin`"
   ]
  },
  {
   "cell_type": "code",
   "execution_count": 1,
   "metadata": {},
   "outputs": [
    {
     "data": {
      "text/plain": [
       "0"
      ]
     },
     "execution_count": 1,
     "metadata": {},
     "output_type": "execute_result"
    }
   ],
   "source": [
    "import enum\n",
    "import logging\n",
    "import threading\n",
    "import time\n",
    "\n",
    "import ophyd\n",
    "import bluesky\n",
    "import bluesky.plans\n",
    "import databroker\n",
    "\n",
    "logger = logging.getLogger()\n",
    "RE = bluesky.RunEngine({})\n",
    "db = databroker.Broker.from_config(databroker.temp_config())\n",
    "RE.subscribe(db.insert)"
   ]
  },
  {
   "cell_type": "code",
   "execution_count": 2,
   "metadata": {
    "collapsed": true
   },
   "outputs": [],
   "source": [
    "BUSY_PV = 'prj:mybusy'\n",
    "TIME_WAVE_PV = 'prj:t_array'\n",
    "X_WAVE_PV = 'prj:x_array'\n",
    "Y_WAVE_PV = 'prj:y_array'"
   ]
  },
  {
   "cell_type": "code",
   "execution_count": 3,
   "metadata": {
    "collapsed": true
   },
   "outputs": [],
   "source": [
    "class BusyStatus(str, enum.Enum):\n",
    "    busy = \"Busy\"\n",
    "    done = \"Done\"\n",
    "\n",
    "class MyWaveform(ophyd.Device):\n",
    "    \"\"\"waveform records store fly scan data\"\"\"\n",
    "    wave = ophyd.Component(ophyd.EpicsSignalRO, \"\")\n",
    "    number_elements = ophyd.Component(ophyd.EpicsSignalRO, \".NELM\")\n",
    "    number_read = ophyd.Component(ophyd.EpicsSignalRO, \".NORD\")"
   ]
  },
  {
   "cell_type": "code",
   "execution_count": 4,
   "metadata": {},
   "outputs": [],
   "source": [
    "class BusyFlyerDevice(ophyd.Device):\n",
    "    \"\"\"\n",
    "    support APS Fly Scans that are operated by a busy record\n",
    "    \"\"\"\n",
    "\n",
    "    busy = ophyd.Component(ophyd.EpicsSignal, BUSY_PV, string=True)\n",
    "    time = ophyd.Component(MyWaveform, TIME_WAVE_PV)\n",
    "    axis = ophyd.Component(MyWaveform, X_WAVE_PV)\n",
    "    signal = ophyd.Component(MyWaveform, Y_WAVE_PV)\n",
    "    \n",
    "    def __init__(self, *args, **kwargs):\n",
    "        super().__init__('', parent=None, **kwargs)\n",
    "        self.complete_status = None\n",
    "        self.t0 = time.time()\n",
    "        self.waves = (self.time, self.axis, self.signal)\n",
    "\n",
    "    def kickoff(self):\n",
    "        \"\"\"\n",
    "        Start this Flyer\n",
    "        \"\"\"\n",
    "        logger.info(\"kickoff()\")\n",
    "        self.complete_status = ophyd.DeviceStatus(self.busy)\n",
    "        \n",
    "        def cb(*args, **kwargs):\n",
    "            if self.busy.value in (BusyStatus.done):\n",
    "                self.complete_status._finished(success=True)\n",
    "        \n",
    "        self.t0 = time.time()\n",
    "        self.busy.put(BusyStatus.busy)\n",
    "        self.busy.subscribe(cb)\n",
    "\n",
    "        kickoff_status = ophyd.DeviceStatus(self)\n",
    "        kickoff_status._finished(success=True)\n",
    "        return kickoff_status\n",
    "\n",
    "    def complete(self):\n",
    "        \"\"\"\n",
    "        Wait for flying to be complete\n",
    "        \"\"\"\n",
    "        logger.info(\"complete(): \" + str(self.complete_status))\n",
    "        return self.complete_status\n",
    "\n",
    "    def describe_collect(self):\n",
    "        \"\"\"\n",
    "        Describe details for ``collect()`` method\n",
    "        \"\"\"\n",
    "        logger.info(\"describe_collect()\")\n",
    "        schema = {}\n",
    "        for item in self.waves:\n",
    "            structure = dict(\n",
    "                source = item.wave.pvname,\n",
    "                dtype = \"number\",\n",
    "                shape = (1,)\n",
    "            )\n",
    "            schema[item.name] = structure\n",
    "        return {self.name: schema}\n",
    "\n",
    "    def collect(self):\n",
    "        \"\"\"\n",
    "        Start this Flyer\n",
    "        \"\"\"\n",
    "        logger.info(\"collect(): \" + str(self.complete_status))\n",
    "        self.complete_status = None\n",
    "        for i in range(int(self.time.number_read.value)):\n",
    "            data = {}\n",
    "            timestamps = {}\n",
    "            t = time.time()\n",
    "            for item in self.waves:\n",
    "                data[item.name] = item.wave.value[i]\n",
    "                timestamps[item.name] = t\n",
    "            data[self.time.name] -= self.t0  # demo: offset time (removes large offset)\n",
    "            d = dict(\n",
    "                time=time.time(),\n",
    "                data=data,\n",
    "                timestamps=timestamps\n",
    "            )\n",
    "            yield d"
   ]
  },
  {
   "cell_type": "code",
   "execution_count": 5,
   "metadata": {},
   "outputs": [],
   "source": [
    "bflyer = BusyFlyerDevice(name=\"bflyer\")"
   ]
  },
  {
   "cell_type": "code",
   "execution_count": 6,
   "metadata": {},
   "outputs": [],
   "source": [
    "status = bflyer.complete()\n",
    "status"
   ]
  },
  {
   "cell_type": "code",
   "execution_count": 7,
   "metadata": {},
   "outputs": [
    {
     "data": {
      "text/plain": [
       "[{'data': {'bflyer_axis': -1.23,\n",
       "   'bflyer_signal': 0.16916151674677654,\n",
       "   'bflyer_time': -101.57950186729431},\n",
       "  'time': 1524924553.5233662,\n",
       "  'timestamps': {'bflyer_axis': 1524924553.5190482,\n",
       "   'bflyer_signal': 1524924553.5190482,\n",
       "   'bflyer_time': 1524924553.5190482}},\n",
       " {'data': {'bflyer_axis': 0.87,\n",
       "   'bflyer_signal': 0.16916151674677654,\n",
       "   'bflyer_time': -99.174866914749146},\n",
       "  'time': 1524924553.525138,\n",
       "  'timestamps': {'bflyer_axis': 1524924553.5233705,\n",
       "   'bflyer_signal': 1524924553.5233705,\n",
       "   'bflyer_time': 1524924553.5233705}},\n",
       " {'data': {'bflyer_axis': 2.9700000000000002,\n",
       "   'bflyer_signal': 0.69233234149691003,\n",
       "   'bflyer_time': -96.768847942352295},\n",
       "  'time': 1524924553.5256658,\n",
       "  'timestamps': {'bflyer_axis': 1524924553.52514,\n",
       "   'bflyer_signal': 1524924553.52514,\n",
       "   'bflyer_time': 1524924553.52514}},\n",
       " {'data': {'bflyer_axis': 5.0700000000000003,\n",
       "   'bflyer_signal': 0.521690699626154,\n",
       "   'bflyer_time': -94.363762855529785},\n",
       "  'time': 1524924553.5288606,\n",
       "  'timestamps': {'bflyer_axis': 1524924553.5256674,\n",
       "   'bflyer_signal': 1524924553.5256674,\n",
       "   'bflyer_time': 1524924553.5256674}},\n",
       " {'data': {'bflyer_axis': 7.1699999999999999,\n",
       "   'bflyer_signal': 0.93205157549401085,\n",
       "   'bflyer_time': -91.958706855773926},\n",
       "  'time': 1524924553.5293868,\n",
       "  'timestamps': {'bflyer_axis': 1524924553.5288625,\n",
       "   'bflyer_signal': 1524924553.5288625,\n",
       "   'bflyer_time': 1524924553.5288625}}]"
      ]
     },
     "execution_count": 7,
     "metadata": {},
     "output_type": "execute_result"
    }
   ],
   "source": [
    "list(bflyer.collect())"
   ]
  },
  {
   "cell_type": "code",
   "execution_count": 8,
   "metadata": {},
   "outputs": [],
   "source": [
    "import bluesky.utils\n",
    "RE.msg_hook = bluesky.utils.ts_msg_hook\n",
    "logging.basicConfig(\n",
    "    # level=logging.INFO, \n",
    "    level=logging.DEBUG, \n",
    "    format='%(asctime)s.%(msecs)03d %(levelname)s %(message)s',\n",
    "    datefmt='%M:%S',\n",
    "    # datefmt='%Y-%m-%d %H:%M:%S',\n",
    "    ) "
   ]
  },
  {
   "cell_type": "code",
   "execution_count": 9,
   "metadata": {},
   "outputs": [
    {
     "name": "stderr",
     "output_type": "stream",
     "text": [
      "09:13.594 DEBUG Inserted RunStart with uid d4c7687f-79e4-4d88-abdc-25deb841ad90\n",
      "09:13.600 INFO kickoff()\n",
      "09:13.614 INFO complete(): DeviceStatus(device=bflyer_busy, done=False, success=False)\n"
     ]
    },
    {
     "name": "stdout",
     "output_type": "stream",
     "text": [
      "09:09:13.577519 open_run          -> None            args: (), kwargs: {}\n",
      "09:09:13.600244 kickoff           -> bflyer          args: (), kwargs: {'group': None}\n",
      "09:09:13.613497 wait              -> None            args: (), kwargs: {'group': None}\n",
      "09:09:13.614000 complete          -> bflyer          args: (), kwargs: {'group': None}\n",
      "09:09:13.615034 wait              -> None            args: (), kwargs: {'group': None}\n"
     ]
    },
    {
     "name": "stderr",
     "output_type": "stream",
     "text": [
      "09:31.911 INFO describe_collect()\n",
      "09:31.934 DEBUG Inserted EventDescriptor with uid 65c6d0b2-b675-4a92-b668-dc14dd04e774 referencing RunStart with uid d4c7687f-79e4-4d88-abdc-25deb841ad90\n",
      "09:31.936 INFO collect(): DeviceStatus(device=bflyer_busy, done=True, success=True)\n",
      "09:31.960 DEBUG Inserted RunStop with uid d00032bc-4e94-40d3-bfba-65e6c667f6c2 referencing RunStart  with uid d4c7687f-79e4-4d88-abdc-25deb841ad90\n"
     ]
    },
    {
     "name": "stdout",
     "output_type": "stream",
     "text": [
      "09:09:31.911052 collect           -> bflyer          args: (), kwargs: {'stream': False}\n",
      "09:09:31.956795 close_run         -> None            args: (), kwargs: {'exit_status': None, 'reason': None}\n"
     ]
    },
    {
     "data": {
      "text/plain": [
       "('d4c7687f-79e4-4d88-abdc-25deb841ad90',)"
      ]
     },
     "execution_count": 9,
     "metadata": {},
     "output_type": "execute_result"
    }
   ],
   "source": [
    "RE(bluesky.plans.fly([bflyer]))"
   ]
  },
  {
   "cell_type": "code",
   "execution_count": 10,
   "metadata": {},
   "outputs": [],
   "source": [
    "# RE.abort()"
   ]
  },
  {
   "cell_type": "code",
   "execution_count": 11,
   "metadata": {},
   "outputs": [
    {
     "name": "stderr",
     "output_type": "stream",
     "text": [
      "09:31.994 INFO Interpreting key = -1 as an integer\n"
     ]
    },
    {
     "data": {
      "text/html": [
       "<div>\n",
       "<table border=\"1\" class=\"dataframe\">\n",
       "  <thead>\n",
       "    <tr style=\"text-align: right;\">\n",
       "      <th></th>\n",
       "      <th>time</th>\n",
       "      <th>bflyer_time</th>\n",
       "      <th>bflyer_axis</th>\n",
       "      <th>bflyer_signal</th>\n",
       "    </tr>\n",
       "    <tr>\n",
       "      <th>seq_num</th>\n",
       "      <th></th>\n",
       "      <th></th>\n",
       "      <th></th>\n",
       "      <th></th>\n",
       "    </tr>\n",
       "  </thead>\n",
       "  <tbody>\n",
       "    <tr>\n",
       "      <th>1</th>\n",
       "      <td>2018-04-28 10:09:31.937577</td>\n",
       "      <td>8.689862</td>\n",
       "      <td>-1.23</td>\n",
       "      <td>0.005661</td>\n",
       "    </tr>\n",
       "    <tr>\n",
       "      <th>2</th>\n",
       "      <td>2018-04-28 10:09:31.941986</td>\n",
       "      <td>11.093268</td>\n",
       "      <td>0.87</td>\n",
       "      <td>0.870741</td>\n",
       "    </tr>\n",
       "    <tr>\n",
       "      <th>3</th>\n",
       "      <td>2018-04-28 10:09:31.942594</td>\n",
       "      <td>13.497057</td>\n",
       "      <td>2.97</td>\n",
       "      <td>0.017716</td>\n",
       "    </tr>\n",
       "    <tr>\n",
       "      <th>4</th>\n",
       "      <td>2018-04-28 10:09:31.945348</td>\n",
       "      <td>15.900914</td>\n",
       "      <td>5.07</td>\n",
       "      <td>0.350195</td>\n",
       "    </tr>\n",
       "    <tr>\n",
       "      <th>5</th>\n",
       "      <td>2018-04-28 10:09:31.945889</td>\n",
       "      <td>18.305213</td>\n",
       "      <td>7.17</td>\n",
       "      <td>0.032456</td>\n",
       "    </tr>\n",
       "  </tbody>\n",
       "</table>\n",
       "</div>"
      ],
      "text/plain": [
       "                              time  bflyer_time  bflyer_axis  bflyer_signal\n",
       "seq_num                                                                    \n",
       "1       2018-04-28 10:09:31.937577     8.689862        -1.23       0.005661\n",
       "2       2018-04-28 10:09:31.941986    11.093268         0.87       0.870741\n",
       "3       2018-04-28 10:09:31.942594    13.497057         2.97       0.017716\n",
       "4       2018-04-28 10:09:31.945348    15.900914         5.07       0.350195\n",
       "5       2018-04-28 10:09:31.945889    18.305213         7.17       0.032456"
      ]
     },
     "execution_count": 11,
     "metadata": {},
     "output_type": "execute_result"
    }
   ],
   "source": [
    "h = db[-1]\n",
    "h.table(\"bflyer\")"
   ]
  }
 ],
 "metadata": {
  "kernelspec": {
   "display_name": "Python 3",
   "language": "python",
   "name": "python3"
  },
  "language_info": {
   "codemirror_mode": {
    "name": "ipython",
    "version": 3
   },
   "file_extension": ".py",
   "mimetype": "text/x-python",
   "name": "python",
   "nbconvert_exporter": "python",
   "pygments_lexer": "ipython3",
   "version": "3.6.3"
  }
 },
 "nbformat": 4,
 "nbformat_minor": 2
}
