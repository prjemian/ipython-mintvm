{
 "cells": [
  {
   "cell_type": "markdown",
   "metadata": {},
   "source": [
    "# BlueSky Flyer that uses the synApps busy record\n",
    "\n",
    "EPICS fly scans that use external controllers, such as hardware-assisted fly scans, are triggered by the EPICS *busy* record.  The *busy* record is set, which triggers the external controller to do the fly scan and then reset the *busy* record.\n",
    "\n",
    "Here, we refer to this external controller as the *controller*.\n",
    "\n",
    "## Table of Contents\n",
    "\n",
    "* [Python imports and definitions](#imports)\n",
    "* [EPICS PV names](#pvnames)\n",
    "* [External pseudo-controller for fly scan](#pseudo-controller)\n",
    "* [Devices and support](#devices)\n",
    "  * [synApps busy record](#busy-record)\n",
    "  * [busy status values](#busy-status-values)\n",
    "  * [Bare Minimum Requirements for a Flyer](#flyer-requirements)\n",
    "  * [Flyer : a starting template](#flyer-template)\n",
    "  * [Diagnostics](#Diagnostics)\n",
    "\n",
    "* [First working Flyer - trivial data](#trivial-data-flyer)\n",
    "* [Flyer that \"collects\" 1-D array data](#simple-1d-array-flyer)\n",
    "* [Final, working Flyer](#working-flyer)\n",
    "\n",
    "\n",
    "## Python imports and definitions <a class=\"anchor\" id=\"imports\" />\n",
    "\n",
    "Here are the full set of packages to imported.  The first block are Python standard packages, then come the ophyd and BluSky packages.  Just the parts we plan on using here.  Since this is also a tutorial, we will not rename imports or use other such shortcuts in the documentation (the online code has some shortcuts).\n",
    "\n",
    "Finally, create an instance of the BlueSky RunEngine and create a logger instance in case we want to investigate internal details as our code runs."
   ]
  },
  {
   "cell_type": "code",
   "execution_count": 1,
   "metadata": {
    "collapsed": true
   },
   "outputs": [],
   "source": [
    "import enum\n",
    "import logging\n",
    "import threading\n",
    "import time\n",
    "\n",
    "import ophyd\n",
    "import bluesky\n",
    "import bluesky.plans\n",
    "\n",
    "RE = bluesky.RunEngine({})\n",
    "logger = logging.getLogger()"
   ]
  },
  {
   "cell_type": "markdown",
   "metadata": {},
   "source": [
    "## EPICS PV names <a class=\"anchor\" id=\"pvnames\" />\n",
    "\n",
    "These are the EPICS PV names we'll be using for the demo, as defined in this EPICS database, added to our EPICS IOC startup:\n",
    "\n",
    "```\n",
    "record(waveform, \"$(P)str_wave\")\n",
    "{\n",
    "    field(FTVL, \"CHAR\")\n",
    "    field(NELM, \"256\")\n",
    "}\n",
    "record(waveform, \"$(P)t_array\")\n",
    "{\n",
    "    field(DESC, \"timestamps\")\n",
    "    field(FTVL, \"DOUBLE\")\n",
    "    field(NELM, \"256\")\n",
    "}\n",
    "record(waveform, \"$(P)x_array\")\n",
    "{\n",
    "    field(DESC, \"positions\")\n",
    "    field(FTVL, \"DOUBLE\")\n",
    "    field(NELM, \"256\")\n",
    "}\n",
    "record(waveform, \"$(P)y_array\")\n",
    "{\n",
    "    field(DESC, \"signals\")\n",
    "    field(FTVL, \"DOUBLE\")\n",
    "    field(NELM, \"256\")\n",
    "}\n",
    "```\n",
    "\n",
    "The waveforms allow for up to 256 values to be kept."
   ]
  },
  {
   "cell_type": "code",
   "execution_count": 2,
   "metadata": {
    "collapsed": true
   },
   "outputs": [],
   "source": [
    "BUSY_PV = 'prj:mybusy'\n",
    "TIME_WAVE_PV = 'prj:t_array'\n",
    "X_WAVE_PV = 'prj:x_array'\n",
    "Y_WAVE_PV = 'prj:y_array'"
   ]
  },
  {
   "cell_type": "markdown",
   "metadata": {},
   "source": [
    "## External pseudo-controller for fly scan <a class=\"anchor\" id=\"pseudo-controller\" />"
   ]
  },
  {
   "cell_type": "raw",
   "metadata": {},
   "source": [
    "We'll create a *controller* that responds to the EPICS PV that signals a fly scan should be started.  The *controller* operates the fly scan and stores the collected data in EPICS PVs, then signals EPICS that the fly scan is complete.  BlueSky will observe that the fly scan is complete and collect the data from EPICS.\n",
    "\n",
    "A Python program has been built to act as the *controller*.  This *controller* moves a soft [motor](https://github.com/epics-modules/motor) record in a step scan and reads from an [swait](https://github.com/epics-modules/calc) record that has been configured to generate random numbers.\n",
    "\n",
    "The [pseudo-controller](https://github.com/prjemian/ipython_mintvm/blob/master/profile_bluesky/startup/local_code/busyExample.py) *and associated EPICS IOC* should be started outside of this jupyter notebook.  Since the interface is completely through EPICS PVs, it is not necessary for either the IOC or the pseudo-controller to be running on the some computer as the jupyter notebook.\n",
    "\n",
    "![control screen for the motor record](motor.png \"control screen for the motor record\")\n",
    "\n",
    "![control screen for the swait record](swait.png \"control screen for the swait record\")"
   ]
  },
  {
   "cell_type": "markdown",
   "metadata": {},
   "source": [
    "## Devices and support <a class=\"anchor\" id=\"devices\" />\n",
    "\n",
    "Define some ophyd Devices we'll use and support routines for them.\n",
    "\n",
    "### synApps busy record <a class=\"anchor\" id=\"busy-record\" />\n",
    "\n",
    "The synApps [busy](https://github.com/epics-modules/busy) record is a variation of a 0,1 (bit).  It is an integer that starts at zero.  *Busy* is set to one at the start of operations.  This triggers execution of one or more operations that must complete before *busy* is set back to zero.  \n",
    "\n",
    "![control screen for the busy record](busy.png \"control screen for the busy record\")"
   ]
  },
  {
   "cell_type": "code",
   "execution_count": 3,
   "metadata": {
    "collapsed": true
   },
   "outputs": [],
   "source": [
    "class BusyRecord(ophyd.Device):\n",
    "    \"\"\"a busy record sets the fly scan into action\"\"\"\n",
    "    state = ophyd.Component(ophyd.EpicsSignal, \"\", string=True)\n",
    "    output_link = ophyd.Component(ophyd.EpicsSignal, \".OUT\")\n",
    "    forward_link = ophyd.Component(ophyd.EpicsSignal, \".FLNK\")"
   ]
  },
  {
   "cell_type": "markdown",
   "metadata": {},
   "source": [
    "We won't need to use the `.OUT` or `.FLNK` fields in this example.\n",
    "\n",
    "\n",
    "### busy status values <a class=\"anchor\" id=\"busy-status-values\" />\n",
    "\n",
    "It is useful to define the state values (strings) so that clients have no ambiguity in spelling and error checking.\n",
    "\n",
    "use this | instead of\n",
    "---- | ----\n",
    "`BusyStatus.busy` | `\"Busy\"`\n",
    "`BusyStatus.done` | `\"Done\"`"
   ]
  },
  {
   "cell_type": "code",
   "execution_count": 4,
   "metadata": {},
   "outputs": [],
   "source": [
    "class BusyStatus(str, enum.Enum):\n",
    "    busy = \"Busy\"\n",
    "    done = \"Done\""
   ]
  },
  {
   "cell_type": "markdown",
   "metadata": {},
   "source": [
    "We want a couple items from the [waveform](https://wiki-ext.aps.anl.gov/epics/index.php/RRM_3-14_Waveform) record.  Let's use a custom ophyd Device for just what we need here."
   ]
  },
  {
   "cell_type": "code",
   "execution_count": 5,
   "metadata": {
    "collapsed": true
   },
   "outputs": [],
   "source": [
    "class MyWaveform(ophyd.Device):\n",
    "    \"\"\"waveform records store fly scan data\"\"\"\n",
    "    wave = ophyd.Component(ophyd.EpicsSignalRO, \"\")\n",
    "    number_elements = ophyd.Component(ophyd.EpicsSignalRO, \".NELM\")\n",
    "    number_read = ophyd.Component(ophyd.EpicsSignalRO, \".NORD\")"
   ]
  },
  {
   "cell_type": "markdown",
   "metadata": {
    "collapsed": true
   },
   "source": [
    "### Bare Minimum Requirements for a Flyer <a class=\"anchor\" id=\"flyer-requirements\" />\n",
    "\n",
    "In BlueSky, a [Flyer](http://nsls-ii.github.io/bluesky/async.html?highlight=flyer#flying) is an `ophyd.Device` that meets the Flyer interface, which has three methods:\n",
    "\n",
    "1. Kickoff - begin accumulating data\n",
    "1. Complete - BlueSky tells the Flyer that BlueSky is ready to receive data\n",
    "1. Collect - the device provides the data to BlueSky\n",
    "\n",
    "The first two methods [must return](http://nsls-ii.github.io/bluesky/hardware.html?highlight=flyer#kickoff) an instance of `ophyd.DeviceStatus` (a.k.a. a *status* object).  \n",
    "\n",
    "The `collect()` method requires a companion `describe_collect()` that informs the RunEngine what kind of data to expect from `collect()`.\n",
    "\n",
    "This example (which does absolutely nothing) meets the bare minimum requirement.\n",
    "\n",
    "\n",
    "note:  (We are not yet using the pseudo-controller.  That comes later.)"
   ]
  },
  {
   "cell_type": "code",
   "execution_count": 6,
   "metadata": {},
   "outputs": [
    {
     "name": "stdout",
     "output_type": "stream",
     "text": [
      "DeviceStatus(device=flyer, done=True, success=True)\n",
      "[{'data': {}, 'timestamps': {}, 'time': 1524781692.529355}]\n"
     ]
    },
    {
     "data": {
      "text/plain": [
       "('ddcd06d0-b531-487f-ba7f-06c442367464',)"
      ]
     },
     "execution_count": 6,
     "metadata": {},
     "output_type": "execute_result"
    }
   ],
   "source": [
    "class BareMinimumFlyer(ophyd.Device):\n",
    "\n",
    "    def kickoff(self):\n",
    "        status = ophyd.DeviceStatus(self)\n",
    "        status._finished(success=True)\n",
    "        return status\n",
    "\n",
    "    def complete(self):\n",
    "        status = ophyd.DeviceStatus(self)\n",
    "        status._finished(success=True)\n",
    "        return status\n",
    "\n",
    "    def collect(self):\n",
    "        yield {'data':{}, 'timestamps':{}, 'time':time.time()}\n",
    "    \n",
    "    def describe_collect(self):\n",
    "        return {self.name: {}}\n",
    "\n",
    "\n",
    "flyer = BareMinimumFlyer(name=\"flyer\")\n",
    "print(flyer.complete())\n",
    "print(list(flyer.collect()))\n",
    "RE(bluesky.plans.fly([flyer]))"
   ]
  },
  {
   "cell_type": "markdown",
   "metadata": {},
   "source": [
    "### Flyer : a starting template <a class=\"anchor\" id=\"flyer-template\" />\n",
    "\n",
    "The `BareMinimumFlyer` is a good start to use a Flyer but we'll need to add a few more things to make a good template.  The first thing to do is to make the status object known to any method of the class.  We'll call it `self._completion_status` and it will tell us if the *controller* is finished.  In the constructor (`__init__()`), we set it to `None`, the value we expect when not *flying*.  Since we **need** a constructor, we must remember to call the constructor of the superclass as well or our `ophyd.Device` will not work correctly.\n",
    "\n",
    "    def __init__(self, *args, **kwargs):\n",
    "        super().__init__('', parent=None, **kwargs)\n",
    "        self._completion_status = None\n",
    "\n",
    "Our *controller* signals through EPICS that it is finished.  This could take some time (seconds to minutes, at least).  We need a way to detect this completion.  We can do that either by polling the PV or by setting a callback on the completion event.  Here, we do it in a polling loop.  Since the polling loop is an activity that does not return until the busy record is done, we must do that waiting in a thread separate from that of the RunEngine.  (We do not want to block the RunEngine thread so it can respond to other activities, such as data from other streams or the user inerface.)  So, we run `my_activity()` in a separate method that is called from `kickoff()`:\n",
    "\n",
    "        thread = threading.Thread(target=self.my_activity, daemon=True)\n",
    "        thread.start()\n",
    "\n",
    "The basic outline of `my_activity()` is:\n",
    "\n",
    "    def my_activity(self):\n",
    "        # set the busy record to busy (very fast)\n",
    "        # wait for busy record to be done (could be very slow)\n",
    "        self._completion_status._finished(success=True)\n",
    "\n",
    "The waiting step will *block the thread* in which `my_activity()` is running but that's OK since this is separate from the RunEngine's thread.\n",
    "\n",
    "We've also added some diagnostic reporting (calls to `logger.info(...)`) to build out the next example:"
   ]
  },
  {
   "cell_type": "code",
   "execution_count": 7,
   "metadata": {
    "collapsed": true
   },
   "outputs": [],
   "source": [
    "class MyFlyer(ophyd.Device):\n",
    "    \"\"\"\n",
    "    starting template for a Flyer that we understand\n",
    "    \"\"\"\n",
    "\n",
    "    def __init__(self, *args, **kwargs):\n",
    "        super().__init__('', parent=None, **kwargs)\n",
    "        self._completion_status = None\n",
    "\n",
    "    def my_activity(self):\n",
    "        \"\"\"\n",
    "        start the \"fly scan\" here, could wait for completion\n",
    "        \n",
    "        It's OK to use blocking calls here \n",
    "        since this is called in a separate thread\n",
    "        from the BlueSky RunEngine.\n",
    "        \"\"\"\n",
    "        logger.info(\"activity()\")\n",
    "        if self._completion_status is None:\n",
    "            logger.info(\"leaving activity() - not complete\")\n",
    "            return\n",
    "        \n",
    "        # TODO: do the activity here\n",
    "        # TODO: wait for completion\n",
    "        \n",
    "        self._completion_status._finished(success=True)\n",
    "        logger.info(\"activity() complete. status = \" + str(self._completion_status))\n",
    "\n",
    "    def kickoff(self):\n",
    "        \"\"\"\n",
    "        Start this Flyer\n",
    "        \"\"\"\n",
    "        logger.info(\"kickoff()\")\n",
    "        self._completion_status = ophyd.DeviceStatus(self)\n",
    "        \n",
    "        thread = threading.Thread(target=self.my_activity, daemon=True)\n",
    "        thread.start()\n",
    "\n",
    "        return self._completion_status\n",
    "\n",
    "    def complete(self):\n",
    "        \"\"\"\n",
    "        Wait for flying to be complete\n",
    "        \"\"\"\n",
    "        logger.info(\"complete()\")\n",
    "        if self._completion_status is None:\n",
    "            raise RuntimeError(\"No collection in progress\")\n",
    "\n",
    "        st = ophyd.DeviceStatus(self)\n",
    "        st._finished(success=True)\n",
    "        return st\n",
    "\n",
    "    def collect(self):\n",
    "        \"\"\"\n",
    "        Start this Flyer\n",
    "        \"\"\"\n",
    "        logger.info(\"collect()\")\n",
    "        yield {'data':{}, 'timestamps':{}, 'time':time.time()}\n",
    "    \n",
    "    def describe_collect(self):\n",
    "        \"\"\"\n",
    "        Describe details for ``collect()`` method\n",
    "        \"\"\"\n",
    "        logger.info(\"describe_collect()\")\n",
    "        return {self.name: {}}\n"
   ]
  },
  {
   "cell_type": "code",
   "execution_count": 8,
   "metadata": {
    "collapsed": true
   },
   "outputs": [],
   "source": [
    "ifly = MyFlyer(name=\"ifly\")"
   ]
  },
  {
   "cell_type": "markdown",
   "metadata": {
    "collapsed": true
   },
   "source": [
    "### Diagnostics  <a class=\"anchor\" id=\"Diagnostics\" />\n",
    "\n",
    "When building a `Flyer`, it is useful to have some diagnostics in place.  Already, we have been using some of these, including printing interim messages via calls to `logger.info(...)`.  Another useful diagnostic step is to call each of the methods individually to make sure they are acting as expected.\n",
    "\n",
    "1. create an instance of the `Flyer`\n",
    "\n",
    "    flyer = MyFlyer(name=\"flyer\")\n",
    "\n",
    "1. verify that `kickoff()` returns a status that is \"Done\"\n",
    "\n",
    "    status = flyer.kickoff()\n",
    "    status.done\n",
    "\n",
    "1. verify that `complete()` returns a status that is \"Done\"\n",
    "\n",
    "    status = flyer.complete()\n",
    "    status.done\n",
    "\n",
    "1. verify that `describe_collect()` returns a dictionary\n",
    "\n",
    "    d = flyer.describe_collect()\n",
    "    d\n",
    "\n",
    "1. verify that `collect()` returns a generator\n",
    "\n",
    "    g = flyer.collect()\n",
    "    g\n",
    "\n",
    "1. verify that generator is a list of data dictionaries\n",
    "\n",
    "    list(g)\n",
    "\n",
    "\n",
    "Apply some of those steps here (we'll skip testing the `complete()` method since it raises a `RuntimeError` exception if data collection is not in progress):"
   ]
  },
  {
   "cell_type": "code",
   "execution_count": 9,
   "metadata": {},
   "outputs": [
    {
     "data": {
      "text/plain": [
       "{'ifly': {}}"
      ]
     },
     "execution_count": 9,
     "metadata": {},
     "output_type": "execute_result"
    }
   ],
   "source": [
    "ifly.describe_collect()"
   ]
  },
  {
   "cell_type": "code",
   "execution_count": 10,
   "metadata": {},
   "outputs": [
    {
     "data": {
      "text/plain": [
       "[{'data': {}, 'time': 1524781692.6965804, 'timestamps': {}}]"
      ]
     },
     "execution_count": 10,
     "metadata": {},
     "output_type": "execute_result"
    }
   ],
   "source": [
    "list(ifly.collect())"
   ]
  },
  {
   "cell_type": "markdown",
   "metadata": {},
   "source": [
    "Now, run this fly scan:"
   ]
  },
  {
   "cell_type": "code",
   "execution_count": 11,
   "metadata": {},
   "outputs": [
    {
     "data": {
      "text/plain": [
       "('8319cd06-c62a-4e1b-9221-a7c41a2f9fe2',)"
      ]
     },
     "execution_count": 11,
     "metadata": {},
     "output_type": "execute_result"
    }
   ],
   "source": [
    "RE(bluesky.plans.fly([ifly]))"
   ]
  },
  {
   "cell_type": "markdown",
   "metadata": {},
   "source": [
    "## First working Flyer - trivial data <a class=\"anchor\" id=\"trivial-data-flyer\" />\n",
    "\n",
    "See GitHub for a [summary of changes in source code](https://github.com/prjemian/ipython_mintvm/compare/062d1765023a4d9...388eb30304e51).\n",
    "\n",
    "To collect data, we need to modify both the `collect()` *and* the `describe_collect()` methods.  BlueSky needs to know what kind of data to expect from this Flyer, so that it can generate the correct `descriptor` document.\n",
    "\n",
    "For the *most* trivial case, we'll return a single number (`1.2345`) as the result of the first working Flyer.  (Still not yet using the pseudo-controller.)\n",
    "\n",
    "In the `describe_collect()` method, we create a dictionary that describes the data to be collected:\n",
    "\n",
    "        d = dict(\n",
    "            source = \"fictional\",\n",
    "            dtype = \"number\",\n",
    "            shape = []\n",
    "        )\n",
    "        return {\n",
    "            'ifly': {\n",
    "                \"x\": d\n",
    "            }\n",
    "        }\n",
    "\n",
    "Then, in the `collect()` method, add the actual data collection code:\n",
    "\n",
    "        t = time.time()\n",
    "        d = dict(\n",
    "            time=t,\n",
    "            data=dict(x=1.2345),\n",
    "            timestamps=dict(x=t)\n",
    "        )\n",
    "        yield d\n"
   ]
  },
  {
   "cell_type": "code",
   "execution_count": 12,
   "metadata": {
    "collapsed": true
   },
   "outputs": [],
   "source": [
    "class MyFlyer(ophyd.Device):\n",
    "    \"\"\"\n",
    "    build a Flyer that we understand\n",
    "    \"\"\"\n",
    "\n",
    "    def __init__(self, *args, **kwargs):\n",
    "        super().__init__('', parent=None, **kwargs)\n",
    "        self._completion_status = None\n",
    "\n",
    "    def my_activity(self):\n",
    "        \"\"\"\n",
    "        start the \"fly scan\" here, could wait for completion\n",
    "        \n",
    "        It's OK to use blocking calls here \n",
    "        since this is called in a separate thread\n",
    "        from the BlueSky RunEngine.\n",
    "        \"\"\"\n",
    "        logger.info(\"activity()\")\n",
    "        if self._completion_status is None:\n",
    "            logger.info(\"leaving activity() - not complete\")\n",
    "            return\n",
    "        \n",
    "        # TODO: do the activity here\n",
    "        # TODO: wait for completion\n",
    "        \n",
    "        self._completion_status._finished(success=True)\n",
    "        logger.info(\"activity() complete. status = \" + str(self._completion_status))\n",
    "\n",
    "    def kickoff(self):\n",
    "        \"\"\"\n",
    "        Start this Flyer\n",
    "        \"\"\"\n",
    "        logger.info(\"kickoff()\")\n",
    "        self._completion_status = ophyd.DeviceStatus(self)\n",
    "        \n",
    "        thread = threading.Thread(target=self.my_activity, daemon=True)\n",
    "        thread.start()\n",
    "\n",
    "        return self._completion_status\n",
    "\n",
    "    def complete(self):\n",
    "        \"\"\"\n",
    "        Wait for flying to be complete\n",
    "        \"\"\"\n",
    "        logger.info(\"complete()\")\n",
    "        if self._completion_status is None:\n",
    "            raise RuntimeError(\"No collection in progress\")\n",
    "\n",
    "        st = ophyd.DeviceStatus(self)\n",
    "        st._finished(success=True)\n",
    "        return st\n",
    "\n",
    "    def describe_collect(self):\n",
    "        \"\"\"\n",
    "        Describe details for ``collect()`` method\n",
    "        \"\"\"\n",
    "        logger.info(\"describe_collect()\")\n",
    "        d = dict(\n",
    "            source = \"fictional\",\n",
    "            dtype = \"number\",\n",
    "            shape = []\n",
    "        )\n",
    "        return {\n",
    "            'ifly': {\n",
    "                \"x\": d\n",
    "            }\n",
    "        }\n",
    "\n",
    "    def collect(self):\n",
    "        \"\"\"\n",
    "        Start this Flyer\n",
    "        \"\"\"\n",
    "        logger.info(\"collect()\")\n",
    "        t = time.time()\n",
    "        d = dict(\n",
    "            time=t,\n",
    "            data=dict(x=1.2345),\n",
    "            timestamps=dict(x=t)\n",
    "        )\n",
    "        yield d"
   ]
  },
  {
   "cell_type": "markdown",
   "metadata": {},
   "source": [
    "As before, create a new instance of the *revised* `MyFlyer` class."
   ]
  },
  {
   "cell_type": "code",
   "execution_count": 13,
   "metadata": {
    "collapsed": true
   },
   "outputs": [],
   "source": [
    "ifly = MyFlyer(name=\"ifly\")"
   ]
  },
  {
   "cell_type": "code",
   "execution_count": 14,
   "metadata": {},
   "outputs": [
    {
     "name": "stdout",
     "output_type": "stream",
     "text": [
      "output from describe_collect() :  {'ifly': {'x': {'source': 'fictional', 'dtype': 'number', 'shape': []}}}\n",
      "list output from collect() :  [{'time': 1524781693.1145604, 'data': {'x': 1.2345}, 'timestamps': {'x': 1524781693.1145604}}]\n"
     ]
    }
   ],
   "source": [
    "print('output from describe_collect() : ', ifly.describe_collect())\n",
    "print(\"list output from collect() : \", list(ifly.collect()))"
   ]
  },
  {
   "cell_type": "markdown",
   "metadata": {},
   "source": [
    "Running this flyer with the RunEngine seems anticlimactic in a jupyter notebook since we do not use a DataBroker, but the lack of exceptions tells us that it ran and we get a UUID at the end."
   ]
  },
  {
   "cell_type": "code",
   "execution_count": 15,
   "metadata": {},
   "outputs": [
    {
     "data": {
      "text/plain": [
       "('8a795e37-0b2e-4699-b319-4882ea3349da',)"
      ]
     },
     "execution_count": 15,
     "metadata": {},
     "output_type": "execute_result"
    }
   ],
   "source": [
    "RE(bluesky.plans.fly([ifly]))"
   ]
  },
  {
   "cell_type": "markdown",
   "metadata": {},
   "source": [
    "## Flyer that \"collects\" 1-D array data  <a class=\"anchor\" id=\"simple-1d-array-flyer\" />\n",
    "\n",
    "See GitHub for a [summary of changes in source code](https://github.com/prjemian/ipython_mintvm/compare/388eb30304e51...a0af3ec57a3430e777b3)."
   ]
  },
  {
   "cell_type": "markdown",
   "metadata": {
    "collapsed": true
   },
   "source": [
    "```\n",
    "document that we generate 5 random numbers as an \"array\" for the `collect()` method.  Show what's been added.\n",
    "\n",
    "explain the use of time.time and self.t0\n",
    "```"
   ]
  },
  {
   "cell_type": "code",
   "execution_count": 16,
   "metadata": {
    "collapsed": true
   },
   "outputs": [],
   "source": [
    "class MyFlyer(ophyd.Device):\n",
    "    \"\"\"\n",
    "    a Flyer that we understand that reports 1-D array of data\n",
    "    \"\"\"\n",
    "\n",
    "    def __init__(self, *args, **kwargs):\n",
    "        super().__init__('', parent=None, **kwargs)\n",
    "        self._completion_status = None\n",
    "        self.t0 = 0\n",
    "\n",
    "    def my_activity(self):\n",
    "        \"\"\"\n",
    "        start the \"fly scan\" here, could wait for completion\n",
    "        \n",
    "        It's OK to use blocking calls here \n",
    "        since this is called in a separate thread\n",
    "        from the BlueSky RunEngine.\n",
    "        \"\"\"\n",
    "        logger.info(\"activity()\")\n",
    "        if self._completion_status is None:\n",
    "            logger.info(\"leaving activity() - not complete\")\n",
    "            return\n",
    "        \n",
    "        # TODO: do the activity here\n",
    "        # TODO: wait for completion\n",
    "        \n",
    "        self._completion_status._finished(success=True)\n",
    "        logger.info(\"activity() complete. status = \" + str(self._completion_status))\n",
    "\n",
    "    def kickoff(self):\n",
    "        \"\"\"\n",
    "        Start this Flyer\n",
    "        \"\"\"\n",
    "        logger.info(\"kickoff()\")\n",
    "        self._completion_status = ophyd.DeviceStatus(self)\n",
    "        self.t0 = time.time()\n",
    "        \n",
    "        thread = threading.Thread(target=self.my_activity, daemon=True)\n",
    "        thread.start()\n",
    "\n",
    "        return self._completion_status\n",
    "\n",
    "    def complete(self):\n",
    "        \"\"\"\n",
    "        Wait for flying to be complete\n",
    "        \"\"\"\n",
    "        logger.info(\"complete()\")\n",
    "        if self._completion_status is None:\n",
    "            raise RuntimeError(\"No collection in progress\")\n",
    "\n",
    "        st = ophyd.DeviceStatus(self)\n",
    "        st._finished(success=True)\n",
    "        return st\n",
    "\n",
    "    def describe_collect(self):\n",
    "        \"\"\"\n",
    "        Describe details for ``collect()`` method\n",
    "        \"\"\"\n",
    "        logger.info(\"describe_collect()\")\n",
    "        d = dict(\n",
    "            source = \"elapsed time, s\",\n",
    "            dtype = \"number\",\n",
    "            shape = (1,)\n",
    "        )\n",
    "        return {\n",
    "            'ifly': {\n",
    "                \"x\": d\n",
    "            }\n",
    "        }\n",
    "\n",
    "    def collect(self):\n",
    "        \"\"\"\n",
    "        Start this Flyer\n",
    "        \"\"\"\n",
    "        logger.info(\"collect()\")\n",
    "        for _ in range(5):\n",
    "            t = time.time()\n",
    "            x = t - self.t0 # data is elapsed time since kickoff()\n",
    "            d = dict(\n",
    "                time=t,\n",
    "                data=dict(x=x),\n",
    "                timestamps=dict(x=t)\n",
    "            )\n",
    "            yield d\n"
   ]
  },
  {
   "cell_type": "code",
   "execution_count": 17,
   "metadata": {},
   "outputs": [
    {
     "name": "stdout",
     "output_type": "stream",
     "text": [
      "output from describe_collect() :  {'ifly': {'x': {'source': 'elapsed time, s', 'dtype': 'number', 'shape': (1,)}}}\n",
      "list output from collect() :  [{'time': 1524781693.298817, 'data': {'x': 1524781693.298817}, 'timestamps': {'x': 1524781693.298817}}, {'time': 1524781693.2988198, 'data': {'x': 1524781693.2988198}, 'timestamps': {'x': 1524781693.2988198}}, {'time': 1524781693.2988214, 'data': {'x': 1524781693.2988214}, 'timestamps': {'x': 1524781693.2988214}}, {'time': 1524781693.2988229, 'data': {'x': 1524781693.2988229}, 'timestamps': {'x': 1524781693.2988229}}, {'time': 1524781693.2988245, 'data': {'x': 1524781693.2988245}, 'timestamps': {'x': 1524781693.2988245}}]\n"
     ]
    }
   ],
   "source": [
    "ifly = MyFlyer(name=\"ifly\")\n",
    "print('output from describe_collect() : ', ifly.describe_collect())\n",
    "print(\"list output from collect() : \", list(ifly.collect()))"
   ]
  },
  {
   "cell_type": "markdown",
   "metadata": {},
   "source": [
    "Again, not much information from running this flyer, except that it succeeds and a uuid is returned."
   ]
  },
  {
   "cell_type": "code",
   "execution_count": 18,
   "metadata": {},
   "outputs": [
    {
     "data": {
      "text/plain": [
       "('eae61f31-5592-48e0-a0fa-cfef5f4b5c1f',)"
      ]
     },
     "execution_count": 18,
     "metadata": {},
     "output_type": "execute_result"
    }
   ],
   "source": [
    "RE(bluesky.plans.fly([ifly]))"
   ]
  },
  {
   "cell_type": "markdown",
   "metadata": {},
   "source": [
    "## Final, working Flyer <a class=\"anchor\" id=\"working-flyer\" />\n",
    "\n",
    "If we want to poll the busy PV for it to be Done, then we needn't tie up the CPU completely.  We can poll at a more limited rate by adding a delay time between polling cehcks of the busy state.  50 ms should be fine for a scan that involves moving a motor.  Add this to the constructor:\n",
    "\n",
    "        self.poll_sleep_interval_s = 0.05\n",
    "\n",
    "Later, this is used to wait for the busy record:\n",
    "\n",
    "        while self.busy.state.value not in (BusyStatus.done):\n",
    "            time.sleep(self.poll_sleep_interval_s)\n",
    "\n",
    "Already, we added a starting time (`self.t0`) that is set at `kickoff()`.  This is used to measure elapsed time to each data reporting event.\n",
    "\n",
    "When talking to EPICS PVs, we create instances of each:\n",
    "\n",
    "    busy = ophyd.Component(BusyRecord, BUSY_PV)\n",
    "    tArr = ophyd.Component(MyWaveform, TIME_WAVE_PV)\n",
    "    xArr = ophyd.Component(MyWaveform, X_WAVE_PV)\n",
    "    yArr = ophyd.Component(MyWaveform, Y_WAVE_PV)\n",
    "\n",
    "where the PV names (`BUSY_PV`, ...) are configured near the top of the code (where it can be seen easily by users).\n",
    "\n",
    "The *activity* consists of making sure the busy record starts at `Done` before we try to fly scan.  Wait for that, just in case.  \n",
    "\n",
    "    self.busy.state.put(BusyStatus.done)\n",
    "    self.wait_busy() \n",
    "\n",
    "Then, set it to `Busy` and wait for `Done`.  \n",
    "\n",
    "    self.t0 = time.time()\n",
    "    self.busy.state.put(BusyStatus.busy)\n",
    "    self.wait_busy() \n",
    "\n",
    "Once done, set the status object and return, ending the thread.\n",
    "\n",
    "    self._completion_status._finished(success=True)\n",
    "\n",
    "With real data, we need to modify both `collect()` and `describe_collect()` for each data to be yielded.  The names must match in both methods or the RunEngine will raise `KeyError: frozenset ...` and tell you about the data you tried to offer.  The names ***must match*** in both methods.\n",
    "\n",
    "See GitHub for a [summary of changes in source code](https://github.com/prjemian/ipython_mintvm/compare/a0af3ec57a3430e777b3...ce116e5e05774)."
   ]
  },
  {
   "cell_type": "code",
   "execution_count": 19,
   "metadata": {
    "collapsed": true
   },
   "outputs": [],
   "source": [
    "class MyFlyer(ophyd.Device):\n",
    "    \"\"\"\n",
    "    a basic Flyer for scans triggered by the synApps busy record\n",
    "    \"\"\"\n",
    "\n",
    "    busy = ophyd.Component(BusyRecord, BUSY_PV)\n",
    "    tArr = ophyd.Component(MyWaveform, TIME_WAVE_PV)\n",
    "    xArr = ophyd.Component(MyWaveform, X_WAVE_PV)\n",
    "    yArr = ophyd.Component(MyWaveform, Y_WAVE_PV)\n",
    "\n",
    "    def __init__(self, *args, **kwargs):\n",
    "        super().__init__('', parent=None, **kwargs)\n",
    "        self._completion_status = None\n",
    "        self.poll_sleep_interval_s = 0.05\n",
    "        self.t0 = 0\n",
    "\n",
    "    def wait_busy(self, target = None):\n",
    "        \"\"\"\n",
    "        wait for the busy record to return to the target value\n",
    "        \"\"\"\n",
    "        logger.debug(\"wait_busy()\")\n",
    "        target = target or BusyStatus.done\n",
    "\n",
    "        while self.busy.state.value not in (target):\n",
    "            time.sleep(self.poll_sleep_interval_s)  # wait to complete ...\n",
    " \n",
    "    def my_activity(self):\n",
    "        \"\"\"\n",
    "        start the \"fly scan\" here, could wait for completion\n",
    "        \n",
    "        It's OK to use blocking calls here \n",
    "        since this is called in a separate thread\n",
    "        from the BlueSky RunEngine.\n",
    "        \"\"\"\n",
    "        logger.info(\"activity()\")\n",
    "        if self._completion_status is None:\n",
    "            logger.info(\"leaving activity() - not complete\")\n",
    "            return\n",
    "        \n",
    "        # do the activity here\n",
    "        self.busy.state.put(BusyStatus.done) # make sure it's Done first\n",
    "        self.wait_busy()\n",
    "\n",
    "        # wait for completion\n",
    "        self.t0 = time.time()\n",
    "        self.busy.state.put(BusyStatus.busy)\n",
    "        self.wait_busy()\n",
    "        \n",
    "        self._completion_status._finished(success=True)\n",
    "        logger.info(\"activity() complete. status = \" + str(self._completion_status))\n",
    "\n",
    "    def kickoff(self):\n",
    "        \"\"\"\n",
    "        Start this Flyer\n",
    "        \"\"\"\n",
    "        logger.info(\"kickoff()\")\n",
    "        self._completion_status = ophyd.DeviceStatus(self)\n",
    "        \n",
    "        thread = threading.Thread(target=self.my_activity, daemon=True)\n",
    "        thread.start()\n",
    "\n",
    "        return self._completion_status\n",
    "\n",
    "    def complete(self):\n",
    "        \"\"\"\n",
    "        Wait for flying to be complete\n",
    "        \"\"\"\n",
    "        logger.info(\"complete()\")\n",
    "        if self._completion_status is None:\n",
    "            raise RuntimeError(\"No collection in progress\")\n",
    "\n",
    "        st = ophyd.DeviceStatus(self)\n",
    "        st._finished(success=True)\n",
    "        return st\n",
    "\n",
    "    def describe_collect(self):\n",
    "        \"\"\"\n",
    "        Describe details for ``collect()`` method\n",
    "        \"\"\"\n",
    "        logger.info(\"describe_collect()\")\n",
    "        return {\n",
    "            self.name: dict(\n",
    "                ifly_xArr = dict(\n",
    "                    source = self.xArr.wave.pvname,\n",
    "                    dtype = \"number\",\n",
    "                    shape = (1,)\n",
    "                ),\n",
    "                ifly_yArr = dict(\n",
    "                    source = self.yArr.wave.pvname,\n",
    "                    dtype = \"number\",\n",
    "                    shape = (1,)\n",
    "                ),\n",
    "                ifly_tArr = dict(\n",
    "                    source = self.tArr.wave.pvname,\n",
    "                    dtype = \"number\",\n",
    "                    shape = (1,)\n",
    "                )\n",
    "            )\n",
    "        }\n",
    "\n",
    "    def collect(self):\n",
    "        \"\"\"\n",
    "        Start this Flyer\n",
    "        \"\"\"\n",
    "        logger.info(\"collect()\")\n",
    "        for i in range(len(ifly.tArr.wave.value)):\n",
    "            t = ifly.tArr.wave.value[i]\n",
    "            x = ifly.xArr.wave.value[i]\n",
    "            y = ifly.yArr.wave.value[i]\n",
    "            d = dict(\n",
    "                time=time.time(),\n",
    "                data=dict(\n",
    "                    ifly_tArr = time.time() - self.t0,\n",
    "                    ifly_xArr = x,\n",
    "                    ifly_yArr = y,\n",
    "                ),\n",
    "                timestamps=dict(\n",
    "                    ifly_tArr = t,\n",
    "                    ifly_xArr = t,\n",
    "                    ifly_yArr = t,\n",
    "                )\n",
    "            )\n",
    "            yield d\n"
   ]
  },
  {
   "cell_type": "code",
   "execution_count": 20,
   "metadata": {
    "collapsed": true
   },
   "outputs": [],
   "source": [
    "ifly = MyFlyer(\"prj:\", name=\"ifly\")"
   ]
  },
  {
   "cell_type": "markdown",
   "metadata": {},
   "source": [
    "Verify that we connected with the busy record, *et al.* by printing the current state."
   ]
  },
  {
   "cell_type": "code",
   "execution_count": 21,
   "metadata": {},
   "outputs": [
    {
     "name": "stdout",
     "output_type": "stream",
     "text": [
      "prj:mybusy Done\n"
     ]
    }
   ],
   "source": [
    "print(ifly.busy.state.pvname, ifly.busy.state.value)"
   ]
  },
  {
   "cell_type": "code",
   "execution_count": 22,
   "metadata": {},
   "outputs": [
    {
     "data": {
      "text/plain": [
       "{'ifly': {'ifly_tArr': {'dtype': 'number',\n",
       "   'shape': (1,),\n",
       "   'source': 'prj:t_array'},\n",
       "  'ifly_xArr': {'dtype': 'number', 'shape': (1,), 'source': 'prj:x_array'},\n",
       "  'ifly_yArr': {'dtype': 'number', 'shape': (1,), 'source': 'prj:y_array'}}}"
      ]
     },
     "execution_count": 22,
     "metadata": {},
     "output_type": "execute_result"
    }
   ],
   "source": [
    "ifly.describe_collect()"
   ]
  },
  {
   "cell_type": "code",
   "execution_count": 23,
   "metadata": {},
   "outputs": [
    {
     "data": {
      "text/plain": [
       "[{'data': {'ifly_tArr': 1524781693.5944357,\n",
       "   'ifly_xArr': -1.23,\n",
       "   'ifly_yArr': 0.75814450293736169},\n",
       "  'time': 1524781693.5944352,\n",
       "  'timestamps': {'ifly_tArr': 1524778594.2428501,\n",
       "   'ifly_xArr': 1524778594.2428501,\n",
       "   'ifly_yArr': 1524778594.2428501}},\n",
       " {'data': {'ifly_tArr': 1524781693.5966647,\n",
       "   'ifly_xArr': 0.87,\n",
       "   'ifly_yArr': 0.4101930266269932},\n",
       "  'time': 1524781693.5966644,\n",
       "  'timestamps': {'ifly_tArr': 1524778596.575331,\n",
       "   'ifly_xArr': 1524778596.575331,\n",
       "   'ifly_yArr': 1524778596.575331}},\n",
       " {'data': {'ifly_tArr': 1524781693.5971735,\n",
       "   'ifly_xArr': 2.9700000000000002,\n",
       "   'ifly_yArr': 0.0087129015030136571},\n",
       "  'time': 1524781693.5971732,\n",
       "  'timestamps': {'ifly_tArr': 1524778598.982986,\n",
       "   'ifly_xArr': 1524778598.982986,\n",
       "   'ifly_yArr': 1524778598.982986}},\n",
       " {'data': {'ifly_tArr': 1524781693.6000092,\n",
       "   'ifly_xArr': 5.0700000000000003,\n",
       "   'ifly_yArr': 0.54908064393072409},\n",
       "  'time': 1524781693.600009,\n",
       "  'timestamps': {'ifly_tArr': 1524778601.3907299,\n",
       "   'ifly_xArr': 1524778601.3907299,\n",
       "   'ifly_yArr': 1524778601.3907299}},\n",
       " {'data': {'ifly_tArr': 1524781693.600736,\n",
       "   'ifly_xArr': 7.1699999999999999,\n",
       "   'ifly_yArr': 0.92019531548027766},\n",
       "  'time': 1524781693.6007357,\n",
       "  'timestamps': {'ifly_tArr': 1524778603.797662,\n",
       "   'ifly_xArr': 1524778603.797662,\n",
       "   'ifly_yArr': 1524778603.797662}}]"
      ]
     },
     "execution_count": 23,
     "metadata": {},
     "output_type": "execute_result"
    }
   ],
   "source": [
    "list(ifly.collect())"
   ]
  },
  {
   "cell_type": "code",
   "execution_count": 24,
   "metadata": {},
   "outputs": [
    {
     "data": {
      "text/plain": [
       "('f4a1012a-e458-4a43-9059-11a186456973',)"
      ]
     },
     "execution_count": 24,
     "metadata": {},
     "output_type": "execute_result"
    }
   ],
   "source": [
    "RE(bluesky.plans.fly([ifly]), md=dict(purpose=\"develop Flyer for APS fly scans\"))"
   ]
  },
  {
   "cell_type": "code",
   "execution_count": null,
   "metadata": {
    "collapsed": true
   },
   "outputs": [],
   "source": []
  }
 ],
 "metadata": {
  "kernelspec": {
   "display_name": "Python 3",
   "language": "python",
   "name": "python3"
  },
  "language_info": {
   "codemirror_mode": {
    "name": "ipython",
    "version": 3
   },
   "file_extension": ".py",
   "mimetype": "text/x-python",
   "name": "python",
   "nbconvert_exporter": "python",
   "pygments_lexer": "ipython3",
   "version": "3.6.3"
  }
 },
 "nbformat": 4,
 "nbformat_minor": 2
}
