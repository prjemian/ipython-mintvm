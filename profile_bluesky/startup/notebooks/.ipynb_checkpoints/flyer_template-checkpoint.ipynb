{
 "cells": [
  {
   "cell_type": "markdown",
   "metadata": {},
   "source": [
    "# BlueSky Flyer Basics\n",
    "\n",
    "We want to understand how to build a *Flyer* in \"BlueSky\" to support various types of fly scans and remote data loggers.  The data about Flyers is spread about the standard documentation.  We need some clarity and a few examples that build complexity incrementally.\n",
    "\n",
    "The basic notion of a Flyer is that it directs an *external controller* (we'll call the the *controller* here) to perform some data colelction process.  Usually, a *controller* is used to collect data at rates beyond the capabilities of BlueSky plans and the RunEngine.  Examples could be waveforms from a storage oscilloscope or a continuous motion scan of a diffractometer.\n",
    "\n",
    "\n",
    "## Python imports and definitions <a class=\"anchor\" id=\"imports\" />\n",
    "\n",
    "Here are the full set of packages to imported.  The first block are Python standard packages, then come the ophyd, BluSky, and databroker packages.  Just the parts we plan on using here.  Since this is also a tutorial, we will not rename imports or use other such shortcuts in the documentation (the online code has some shortcuts).\n",
    "\n",
    "* Create a logger instance in case we want to investigate internal details as our code runs.\n",
    "* Create an instance of the BlueSky RunEngine.\n",
    "* Create an instance of the databroker using the `mongodb_config.yml` file on the local machine\n",
    "* Arrange for the databroker to receive all events from the RunEngine\n"
   ]
  },
  {
   "cell_type": "code",
   "execution_count": 1,
   "metadata": {},
   "outputs": [
    {
     "data": {
      "text/plain": [
       "0"
      ]
     },
     "execution_count": 1,
     "metadata": {},
     "output_type": "execute_result"
    }
   ],
   "source": [
    "import logging\n",
    "import threading\n",
    "import time\n",
    "\n",
    "import ophyd\n",
    "import bluesky\n",
    "import bluesky.plans\n",
    "import databroker\n",
    "\n",
    "logger = logging.getLogger()\n",
    "RE = bluesky.RunEngine({})\n",
    "db = databroker.Broker.named(\"mongodb_config\")\n",
    "RE.subscribe(db.insert)"
   ]
  },
  {
   "cell_type": "markdown",
   "metadata": {
    "collapsed": true
   },
   "source": [
    "### Bare Minimum Requirements for a Flyer <a class=\"anchor\" id=\"flyer-requirements\" />\n",
    "\n",
    "In BlueSky, a [Flyer](http://nsls-ii.github.io/bluesky/async.html?highlight=flyer#flying) is an `ophyd.Device` that meets the Flyer interface, which has three methods:\n",
    "\n",
    "1. Kickoff - begin accumulating data\n",
    "1. Complete - BlueSky tells the Flyer that BlueSky is ready to receive data\n",
    "1. Collect - the device provides the data to BlueSky\n",
    "\n",
    "The first two methods [must return](http://nsls-ii.github.io/bluesky/hardware.html?highlight=flyer#kickoff) an instance of `ophyd.DeviceStatus` (a.k.a. a *status* object).  \n",
    "\n",
    "The `collect()` method requires a companion `describe_collect()` that informs the RunEngine what kind of data to expect from `collect()`.\n",
    "\n",
    "This example (which does absolutely nothing) meets the bare minimum requirement."
   ]
  },
  {
   "cell_type": "code",
   "execution_count": 6,
   "metadata": {},
   "outputs": [
    {
     "name": "stdout",
     "output_type": "stream",
     "text": [
      "DeviceStatus(device=flyer, done=True, success=True)\n",
      "[{'data': {}, 'timestamps': {}, 'time': 1524796482.2252376}]\n"
     ]
    },
    {
     "data": {
      "text/plain": [
       "('f5158cf8-573a-4d89-ae50-424fb92321d5',)"
      ]
     },
     "execution_count": 6,
     "metadata": {},
     "output_type": "execute_result"
    }
   ],
   "source": [
    "class BareMinimumFlyer(ophyd.Device):\n",
    "\n",
    "    def kickoff(self):\n",
    "        kickoff_status = ophyd.DeviceStatus(self)\n",
    "        kickoff_status._finished(success=True)\n",
    "        return kickoff_status\n",
    "\n",
    "    def complete(self):\n",
    "        complete_status = ophyd.DeviceStatus(self)\n",
    "        complete_status._finished(success=True)\n",
    "        return complete_status\n",
    "\n",
    "    def collect(self):\n",
    "        yield {'data':{}, 'timestamps':{}, 'time':time.time()}\n",
    "    \n",
    "    def describe_collect(self):\n",
    "        return {self.name: {}}\n",
    "\n",
    "\n",
    "flyer = BareMinimumFlyer(name=\"flyer\")\n",
    "print(flyer.complete())\n",
    "print(list(flyer.collect()))\n",
    "\n",
    "# if this next step succeeds, it's proof that we did this right!\n",
    "RE(bluesky.plans.fly([flyer]))"
   ]
  },
  {
   "cell_type": "markdown",
   "metadata": {},
   "source": [
    "### Flyer : a starting template <a class=\"anchor\" id=\"flyer-template\" />\n",
    "\n",
    "The `BareMinimumFlyer` is a good start to use a Flyer but we'll need to add a few more things to make a good template.  The first thing to do is to make the status object known to any method of the class.  We'll call it `self._completion_status` and it will tell us if the *controller* is finished.  In the constructor (`__init__()`), we set it to `None`, the value we expect when not *flying*.  Since we **need** a constructor, we must remember to call the constructor of the superclass as well or our `ophyd.Device` will not work correctly.\n",
    "\n",
    "    def __init__(self, *args, **kwargs):\n",
    "        super().__init__('', parent=None, **kwargs)\n",
    "        self._completion_status = None\n",
    "\n",
    "Our *controller* signals through EPICS that it is finished.  This could take some time (seconds to minutes, at least).  We need a way to detect this completion.  We can do that either by polling the PV or by setting a callback on the completion event.  Here, we do it in a polling loop.  Since the polling loop is an activity that does not return until the busy record is done, we must do that waiting in a thread separate from that of the RunEngine.  (We do not want to block the RunEngine thread so it can respond to other activities, such as data from other streams or the user inerface.)  So, we run `my_activity()` in a separate method that is called from `kickoff()`:\n",
    "\n",
    "        thread = threading.Thread(target=self.my_activity, daemon=True)\n",
    "        thread.start()\n",
    "\n",
    "The basic outline of `my_activity()` is:\n",
    "\n",
    "    def my_activity(self):\n",
    "        # set the busy record to busy (very fast)\n",
    "        # wait for busy record to be done (could be very slow)\n",
    "        self._completion_status._finished(success=True)\n",
    "\n",
    "The waiting step will *block the thread* in which `my_activity()` is running but that's OK since this is separate from the RunEngine's thread.\n",
    "\n",
    "We've also added some diagnostic reporting (calls to `logger.info(...)`) to build out the next example:"
   ]
  },
  {
   "cell_type": "code",
   "execution_count": 7,
   "metadata": {
    "collapsed": true
   },
   "outputs": [],
   "source": [
    "class MyFlyer(ophyd.Device):\n",
    "    \"\"\"\n",
    "    starting template for a Flyer that we understand\n",
    "    \"\"\"\n",
    "\n",
    "    def __init__(self, *args, **kwargs):\n",
    "        super().__init__('', parent=None, **kwargs)\n",
    "        self._completion_status = None\n",
    "\n",
    "    def my_activity(self):\n",
    "        \"\"\"\n",
    "        start the \"fly scan\" here, could wait for completion\n",
    "        \n",
    "        It's OK to use blocking calls here \n",
    "        since this is called in a separate thread\n",
    "        from the BlueSky RunEngine.\n",
    "        \"\"\"\n",
    "        logger.info(\"activity()\")\n",
    "        if self._completion_status is None:\n",
    "            logger.info(\"leaving activity() - not complete\")\n",
    "            return\n",
    "        \n",
    "        # TODO: do the activity here\n",
    "        # TODO: wait for completion\n",
    "        \n",
    "        self._completion_status._finished(success=True)\n",
    "        logger.info(\"activity() complete. status = \" + str(self._completion_status))\n",
    "\n",
    "    def kickoff(self):\n",
    "        \"\"\"\n",
    "        Start this Flyer\n",
    "        \"\"\"\n",
    "        logger.info(\"kickoff()\")\n",
    "        self._completion_status = ophyd.DeviceStatus(self)\n",
    "        \n",
    "        thread = threading.Thread(target=self.my_activity, daemon=True)\n",
    "        thread.start()\n",
    "\n",
    "        kickoff_status = ophyd.DeviceStatus(self)\n",
    "        kickoff_status._finished(success=True)\n",
    "        return kickoff_status\n",
    "\n",
    "    def complete(self):\n",
    "        \"\"\"\n",
    "        Wait for flying to be complete\n",
    "        \"\"\"\n",
    "        logger.info(\"complete()\")\n",
    "        if self._completion_status is None:\n",
    "            raise RuntimeError(\"No collection in progress\")\n",
    "\n",
    "        return self._completion_status\n",
    "\n",
    "    def collect(self):\n",
    "        \"\"\"\n",
    "        Start this Flyer\n",
    "        \"\"\"\n",
    "        logger.info(\"collect()\")\n",
    "        self._completion_status = None\n",
    "        yield {'data':{}, 'timestamps':{}, 'time':time.time()}\n",
    "    \n",
    "    def describe_collect(self):\n",
    "        \"\"\"\n",
    "        Describe details for ``collect()`` method\n",
    "        \"\"\"\n",
    "        logger.info(\"describe_collect()\")\n",
    "        return {self.name: {}}\n"
   ]
  },
  {
   "cell_type": "code",
   "execution_count": 8,
   "metadata": {
    "collapsed": true
   },
   "outputs": [],
   "source": [
    "ifly = MyFlyer(name=\"ifly\")"
   ]
  },
  {
   "cell_type": "markdown",
   "metadata": {
    "collapsed": true
   },
   "source": [
    "### Diagnostics  <a class=\"anchor\" id=\"Diagnostics\" />\n",
    "\n",
    "When building a `Flyer`, it is useful to have some diagnostics in place.  Already, we have been using some of these, including printing interim messages via calls to `logger.info(...)`.  Another useful diagnostic step is to call each of the methods individually to make sure they are acting as expected.\n",
    "\n",
    "1. create an instance of the `Flyer`\n",
    "\n",
    "    flyer = MyFlyer(name=\"flyer\")\n",
    "\n",
    "1. verify that `kickoff()` returns a status that is \"Done\"\n",
    "\n",
    "    status = flyer.kickoff()\n",
    "    status.done\n",
    "\n",
    "1. verify that `complete()` returns a status that is \"Done\"\n",
    "\n",
    "    status = flyer.complete()\n",
    "    status.done\n",
    "\n",
    "1. verify that `describe_collect()` returns a dictionary\n",
    "\n",
    "    d = flyer.describe_collect()\n",
    "    d\n",
    "\n",
    "1. verify that `collect()` returns a generator\n",
    "\n",
    "    g = flyer.collect()\n",
    "    g\n",
    "\n",
    "1. verify that generator is a list of data dictionaries\n",
    "\n",
    "    list(g)\n",
    "\n",
    "\n",
    "Apply some of those steps here (we'll skip testing the `ifly.complete()` method when not flying since it raises a `RuntimeError` exception if data collection is not in progress):"
   ]
  },
  {
   "cell_type": "code",
   "execution_count": 9,
   "metadata": {},
   "outputs": [
    {
     "data": {
      "text/plain": [
       "{'ifly': {}}"
      ]
     },
     "execution_count": 9,
     "metadata": {},
     "output_type": "execute_result"
    }
   ],
   "source": [
    "ifly.describe_collect()"
   ]
  },
  {
   "cell_type": "code",
   "execution_count": 10,
   "metadata": {},
   "outputs": [
    {
     "data": {
      "text/plain": [
       "[{'data': {}, 'time': 1524796482.6918066, 'timestamps': {}}]"
      ]
     },
     "execution_count": 10,
     "metadata": {},
     "output_type": "execute_result"
    }
   ],
   "source": [
    "list(ifly.collect())"
   ]
  },
  {
   "cell_type": "markdown",
   "metadata": {},
   "source": [
    "Now, run this fly scan:"
   ]
  },
  {
   "cell_type": "code",
   "execution_count": 11,
   "metadata": {},
   "outputs": [
    {
     "data": {
      "text/plain": [
       "('1eaecf56-37f9-41f9-bb4f-5282991ddab5',)"
      ]
     },
     "execution_count": 11,
     "metadata": {},
     "output_type": "execute_result"
    }
   ],
   "source": [
    "RE(bluesky.plans.fly([ifly]))"
   ]
  },
  {
   "cell_type": "code",
   "execution_count": 12,
   "metadata": {},
   "outputs": [
    {
     "data": {
      "text/plain": [
       "['ifly']"
      ]
     },
     "execution_count": 12,
     "metadata": {},
     "output_type": "execute_result"
    }
   ],
   "source": [
    "db[-1].stream_names"
   ]
  },
  {
   "cell_type": "code",
   "execution_count": 13,
   "metadata": {},
   "outputs": [
    {
     "data": {
      "text/html": [
       "<div>\n",
       "<table border=\"1\" class=\"dataframe\">\n",
       "  <thead>\n",
       "    <tr style=\"text-align: right;\">\n",
       "      <th></th>\n",
       "    </tr>\n",
       "    <tr>\n",
       "      <th>seq_num</th>\n",
       "    </tr>\n",
       "  </thead>\n",
       "  <tbody>\n",
       "  </tbody>\n",
       "</table>\n",
       "</div>"
      ],
      "text/plain": [
       "Empty DataFrame\n",
       "Columns: []\n",
       "Index: []"
      ]
     },
     "execution_count": 13,
     "metadata": {},
     "output_type": "execute_result"
    }
   ],
   "source": [
    "db[-1].table(\"ifly\")"
   ]
  },
  {
   "cell_type": "markdown",
   "metadata": {},
   "source": [
    "## First working Flyer - trivial data <a class=\"anchor\" id=\"trivial-data-flyer\" />\n",
    "\n",
    "See GitHub for a [summary of changes in source code](https://github.com/prjemian/ipython_mintvm/compare/062d1765023a4d9...388eb30304e51).\n",
    "\n",
    "To collect data, we need to modify both the `collect()` *and* the `describe_collect()` methods.  BlueSky needs to know what kind of data to expect from this Flyer, so that it can generate the correct `descriptor` document.\n",
    "\n",
    "For the *most* trivial case, we'll return a single number (`1.2345`) as the result of the first working Flyer.  (Still not yet using the pseudo-controller.)\n",
    "\n",
    "In the `describe_collect()` method, we create a dictionary that describes the data to be collected:\n",
    "\n",
    "        d = dict(\n",
    "            source = \"fictional\",\n",
    "            dtype = \"number\",\n",
    "            shape = []\n",
    "        )\n",
    "        return {\n",
    "            'ifly': {\n",
    "                \"x\": d\n",
    "            }\n",
    "        }\n",
    "\n",
    "Then, in the `collect()` method, add the actual data collection code:\n",
    "\n",
    "        t = time.time()\n",
    "        d = dict(\n",
    "            time=t,\n",
    "            data=dict(x=1.2345),\n",
    "            timestamps=dict(x=t)\n",
    "        )\n",
    "        yield d\n"
   ]
  },
  {
   "cell_type": "code",
   "execution_count": 14,
   "metadata": {
    "collapsed": true
   },
   "outputs": [],
   "source": [
    "class MyFlyer(ophyd.Device):\n",
    "    \"\"\"\n",
    "    build a Flyer that we understand\n",
    "    \"\"\"\n",
    "\n",
    "    def __init__(self, *args, **kwargs):\n",
    "        super().__init__('', parent=None, **kwargs)\n",
    "        self._completion_status = None\n",
    "\n",
    "    def my_activity(self):\n",
    "        \"\"\"\n",
    "        start the \"fly scan\" here, could wait for completion\n",
    "        \n",
    "        It's OK to use blocking calls here \n",
    "        since this is called in a separate thread\n",
    "        from the BlueSky RunEngine.\n",
    "        \"\"\"\n",
    "        logger.info(\"activity()\")\n",
    "        if self._completion_status is None:\n",
    "            logger.info(\"leaving activity() - not complete\")\n",
    "            return\n",
    "        \n",
    "        # TODO: do the activity here\n",
    "        # TODO: wait for completion\n",
    "        \n",
    "        self._completion_status._finished(success=True)\n",
    "        logger.info(\"activity() complete. status = \" + str(self._completion_status))\n",
    "\n",
    "    def kickoff(self):\n",
    "        \"\"\"\n",
    "        Start this Flyer\n",
    "        \"\"\"\n",
    "        logger.info(\"kickoff()\")\n",
    "        self._completion_status = ophyd.DeviceStatus(self)\n",
    "        \n",
    "        thread = threading.Thread(target=self.my_activity, daemon=True)\n",
    "        thread.start()\n",
    "\n",
    "        kickoff_status = ophyd.DeviceStatus(self)\n",
    "        kickoff_status._finished(success=True)\n",
    "        return kickoff_status\n",
    "\n",
    "    def complete(self):\n",
    "        \"\"\"\n",
    "        Wait for flying to be complete\n",
    "        \"\"\"\n",
    "        logger.info(\"complete()\")\n",
    "        if self._completion_status is None:\n",
    "            raise RuntimeError(\"No collection in progress\")\n",
    "\n",
    "        return self._completion_status\n",
    "\n",
    "    def describe_collect(self):\n",
    "        \"\"\"\n",
    "        Describe details for ``collect()`` method\n",
    "        \"\"\"\n",
    "        logger.info(\"describe_collect()\")\n",
    "        d = dict(\n",
    "            source = \"fictional\",\n",
    "            dtype = \"number\",\n",
    "            shape = []\n",
    "        )\n",
    "        return {\n",
    "            'ifly': {\n",
    "                \"x\": d\n",
    "            }\n",
    "        }\n",
    "\n",
    "    def collect(self):\n",
    "        \"\"\"\n",
    "        Start this Flyer\n",
    "        \"\"\"\n",
    "        logger.info(\"collect()\")\n",
    "        self._completion_status = None\n",
    "        t = time.time()\n",
    "        d = dict(\n",
    "            time=t,\n",
    "            data=dict(x=1.2345),\n",
    "            timestamps=dict(x=t)\n",
    "        )\n",
    "        yield d"
   ]
  },
  {
   "cell_type": "markdown",
   "metadata": {},
   "source": [
    "As before, create a new instance of the *revised* `MyFlyer` class."
   ]
  },
  {
   "cell_type": "code",
   "execution_count": 15,
   "metadata": {
    "collapsed": true
   },
   "outputs": [],
   "source": [
    "ifly = MyFlyer(name=\"ifly\")"
   ]
  },
  {
   "cell_type": "code",
   "execution_count": 16,
   "metadata": {},
   "outputs": [
    {
     "name": "stdout",
     "output_type": "stream",
     "text": [
      "output from describe_collect() :  {'ifly': {'x': {'source': 'fictional', 'dtype': 'number', 'shape': []}}}\n",
      "list output from collect() :  [{'time': 1524796483.2597923, 'data': {'x': 1.2345}, 'timestamps': {'x': 1524796483.2597923}}]\n"
     ]
    }
   ],
   "source": [
    "print('output from describe_collect() : ', ifly.describe_collect())\n",
    "print(\"list output from collect() : \", list(ifly.collect()))"
   ]
  },
  {
   "cell_type": "markdown",
   "metadata": {},
   "source": [
    "Running this flyer with the RunEngine seems anticlimactic but the lack of exceptions tells us that it ran and we get a UUID at the end."
   ]
  },
  {
   "cell_type": "code",
   "execution_count": 17,
   "metadata": {},
   "outputs": [
    {
     "data": {
      "text/plain": [
       "('fc3e06ae-9eea-479a-8087-8fdae85271ef',)"
      ]
     },
     "execution_count": 17,
     "metadata": {},
     "output_type": "execute_result"
    }
   ],
   "source": [
    "RE(bluesky.plans.fly([ifly]))"
   ]
  },
  {
   "cell_type": "markdown",
   "metadata": {},
   "source": [
    "We next query the last scan in the databroker and show a table of the stream from `collect()`:"
   ]
  },
  {
   "cell_type": "code",
   "execution_count": 18,
   "metadata": {},
   "outputs": [
    {
     "data": {
      "text/html": [
       "<div>\n",
       "<table border=\"1\" class=\"dataframe\">\n",
       "  <thead>\n",
       "    <tr style=\"text-align: right;\">\n",
       "      <th></th>\n",
       "      <th>time</th>\n",
       "      <th>x</th>\n",
       "    </tr>\n",
       "    <tr>\n",
       "      <th>seq_num</th>\n",
       "      <th></th>\n",
       "      <th></th>\n",
       "    </tr>\n",
       "  </thead>\n",
       "  <tbody>\n",
       "    <tr>\n",
       "      <th>1</th>\n",
       "      <td>2018-04-26 21:34:43.317320</td>\n",
       "      <td>1.2345</td>\n",
       "    </tr>\n",
       "  </tbody>\n",
       "</table>\n",
       "</div>"
      ],
      "text/plain": [
       "                              time       x\n",
       "seq_num                                   \n",
       "1       2018-04-26 21:34:43.317320  1.2345"
      ]
     },
     "execution_count": 18,
     "metadata": {},
     "output_type": "execute_result"
    }
   ],
   "source": [
    "h = db[-1]\n",
    "h.table(h.stream_names[0])"
   ]
  },
  {
   "cell_type": "markdown",
   "metadata": {},
   "source": [
    "## Flyer that \"collects\" 1-D array data  <a class=\"anchor\" id=\"simple-1d-array-flyer\" />\n",
    "\n",
    "See GitHub for a [summary of changes in source code](https://github.com/prjemian/ipython_mintvm/compare/388eb30304e51...a0af3ec57a3430e777b3).\n",
    "\n",
    "```\n",
    "document that we generate 5 random numbers as an \"array\" for the `collect()` method.  Show what's been added.\n",
    "\n",
    "explain the use of time.time and self.t0\n",
    "```"
   ]
  },
  {
   "cell_type": "code",
   "execution_count": 19,
   "metadata": {
    "collapsed": true
   },
   "outputs": [],
   "source": [
    "class MyFlyer(ophyd.Device):\n",
    "    \"\"\"\n",
    "    a Flyer that we understand that reports 1-D array of data\n",
    "    \"\"\"\n",
    "\n",
    "    def __init__(self, *args, **kwargs):\n",
    "        super().__init__('', parent=None, **kwargs)\n",
    "        self._completion_status = None\n",
    "        self.t0 = 0\n",
    "\n",
    "    def my_activity(self):\n",
    "        \"\"\"\n",
    "        start the \"fly scan\" here, could wait for completion\n",
    "        \n",
    "        It's OK to use blocking calls here \n",
    "        since this is called in a separate thread\n",
    "        from the BlueSky RunEngine.\n",
    "        \"\"\"\n",
    "        logger.info(\"activity()\")\n",
    "        if self._completion_status is None:\n",
    "            logger.info(\"leaving activity() - not complete\")\n",
    "            return\n",
    "        \n",
    "        # TODO: do the activity here\n",
    "        # TODO: wait for completion\n",
    "        \n",
    "        self._completion_status._finished(success=True)\n",
    "        logger.info(\"activity() complete. status = \" + str(self._completion_status))\n",
    "\n",
    "    def kickoff(self):\n",
    "        \"\"\"\n",
    "        Start this Flyer\n",
    "        \"\"\"\n",
    "        logger.info(\"kickoff()\")\n",
    "        self._completion_status = ophyd.DeviceStatus(self)\n",
    "        self.t0 = time.time()\n",
    "        \n",
    "        thread = threading.Thread(target=self.my_activity, daemon=True)\n",
    "        thread.start()\n",
    "\n",
    "        kickoff_status = ophyd.DeviceStatus(self)\n",
    "        kickoff_status._finished(success=True)\n",
    "        return kickoff_status\n",
    "\n",
    "    def complete(self):\n",
    "        \"\"\"\n",
    "        Wait for flying to be complete\n",
    "        \"\"\"\n",
    "        logger.info(\"complete()\")\n",
    "        if self._completion_status is None:\n",
    "            raise RuntimeError(\"No collection in progress\")\n",
    "\n",
    "        return self._completion_status\n",
    "\n",
    "    def describe_collect(self):\n",
    "        \"\"\"\n",
    "        Describe details for ``collect()`` method\n",
    "        \"\"\"\n",
    "        logger.info(\"describe_collect()\")\n",
    "        d = dict(\n",
    "            source = \"elapsed time, s\",\n",
    "            dtype = \"number\",\n",
    "            shape = (1,)\n",
    "        )\n",
    "        return {\n",
    "            'ifly': {\n",
    "                \"x\": d\n",
    "            }\n",
    "        }\n",
    "\n",
    "    def collect(self):\n",
    "        \"\"\"\n",
    "        Start this Flyer\n",
    "        \"\"\"\n",
    "        logger.info(\"collect()\")\n",
    "        self._completion_status = None\n",
    "        for _ in range(5):\n",
    "            t = time.time()\n",
    "            x = t - self.t0 # data is elapsed time since kickoff()\n",
    "            d = dict(\n",
    "                time=t,\n",
    "                data=dict(x=x),\n",
    "                timestamps=dict(x=t)\n",
    "            )\n",
    "            yield d\n"
   ]
  },
  {
   "cell_type": "code",
   "execution_count": 20,
   "metadata": {},
   "outputs": [
    {
     "name": "stdout",
     "output_type": "stream",
     "text": [
      "output from describe_collect() :  {'ifly': {'x': {'source': 'elapsed time, s', 'dtype': 'number', 'shape': (1,)}}}\n",
      "list output from collect() :  [{'time': 1524796483.7256951, 'data': {'x': 1524796483.7256951}, 'timestamps': {'x': 1524796483.7256951}}, {'time': 1524796483.7257042, 'data': {'x': 1524796483.7257042}, 'timestamps': {'x': 1524796483.7257042}}, {'time': 1524796483.7257063, 'data': {'x': 1524796483.7257063}, 'timestamps': {'x': 1524796483.7257063}}, {'time': 1524796483.7257087, 'data': {'x': 1524796483.7257087}, 'timestamps': {'x': 1524796483.7257087}}, {'time': 1524796483.7257109, 'data': {'x': 1524796483.7257109}, 'timestamps': {'x': 1524796483.7257109}}]\n"
     ]
    }
   ],
   "source": [
    "ifly = MyFlyer(name=\"ifly\")\n",
    "print('output from describe_collect() : ', ifly.describe_collect())\n",
    "print(\"list output from collect() : \", list(ifly.collect()))"
   ]
  },
  {
   "cell_type": "markdown",
   "metadata": {},
   "source": [
    "Again, not much information from running this flyer, except that it succeeds and a uuid is returned."
   ]
  },
  {
   "cell_type": "code",
   "execution_count": 21,
   "metadata": {},
   "outputs": [
    {
     "data": {
      "text/plain": [
       "('7e26982e-03a5-4dc2-91d8-df25aa5027b6',)"
      ]
     },
     "execution_count": 21,
     "metadata": {},
     "output_type": "execute_result"
    }
   ],
   "source": [
    "RE(bluesky.plans.fly([ifly]))"
   ]
  },
  {
   "cell_type": "code",
   "execution_count": 22,
   "metadata": {},
   "outputs": [
    {
     "data": {
      "text/html": [
       "<div>\n",
       "<table border=\"1\" class=\"dataframe\">\n",
       "  <thead>\n",
       "    <tr style=\"text-align: right;\">\n",
       "      <th></th>\n",
       "      <th>time</th>\n",
       "      <th>x</th>\n",
       "    </tr>\n",
       "    <tr>\n",
       "      <th>seq_num</th>\n",
       "      <th></th>\n",
       "      <th></th>\n",
       "    </tr>\n",
       "  </thead>\n",
       "  <tbody>\n",
       "    <tr>\n",
       "      <th>1</th>\n",
       "      <td>2018-04-26 21:34:43.778584</td>\n",
       "      <td>0.016616</td>\n",
       "    </tr>\n",
       "    <tr>\n",
       "      <th>2</th>\n",
       "      <td>2018-04-26 21:34:43.778619</td>\n",
       "      <td>0.016652</td>\n",
       "    </tr>\n",
       "    <tr>\n",
       "      <th>3</th>\n",
       "      <td>2018-04-26 21:34:43.778638</td>\n",
       "      <td>0.016670</td>\n",
       "    </tr>\n",
       "    <tr>\n",
       "      <th>4</th>\n",
       "      <td>2018-04-26 21:34:43.778654</td>\n",
       "      <td>0.016686</td>\n",
       "    </tr>\n",
       "    <tr>\n",
       "      <th>5</th>\n",
       "      <td>2018-04-26 21:34:43.778670</td>\n",
       "      <td>0.016702</td>\n",
       "    </tr>\n",
       "  </tbody>\n",
       "</table>\n",
       "</div>"
      ],
      "text/plain": [
       "                              time         x\n",
       "seq_num                                     \n",
       "1       2018-04-26 21:34:43.778584  0.016616\n",
       "2       2018-04-26 21:34:43.778619  0.016652\n",
       "3       2018-04-26 21:34:43.778638  0.016670\n",
       "4       2018-04-26 21:34:43.778654  0.016686\n",
       "5       2018-04-26 21:34:43.778670  0.016702"
      ]
     },
     "execution_count": 22,
     "metadata": {},
     "output_type": "execute_result"
    }
   ],
   "source": [
    "h = db[-1]\n",
    "h.table(h.stream_names[0])"
   ]
  },
  {
   "cell_type": "markdown",
   "metadata": {},
   "source": [
    "## Final, working Flyer <a class=\"anchor\" id=\"working-flyer\" />\n",
    "\n",
    "If we want to poll the busy PV for it to be Done, then we needn't tie up the CPU completely.  We can poll at a more limited rate by adding a delay time between polling cehcks of the busy state.  50 ms should be fine for a scan that involves moving a motor.  Add this to the constructor:\n",
    "\n",
    "        self.poll_sleep_interval_s = 0.05\n",
    "\n",
    "Later, this is used to wait for the busy record:\n",
    "\n",
    "        while self.busy.state.value not in (BusyStatus.done):\n",
    "            time.sleep(self.poll_sleep_interval_s)\n",
    "\n",
    "Already, we added a starting time (`self.t0`) that is set at `kickoff()`.  This is used to measure elapsed time to each data reporting event.\n",
    "\n",
    "When talking to EPICS PVs, we create instances of each:\n",
    "\n",
    "    busy = ophyd.Component(BusyRecord, BUSY_PV)\n",
    "    tArr = ophyd.Component(MyWaveform, TIME_WAVE_PV)\n",
    "    xArr = ophyd.Component(MyWaveform, X_WAVE_PV)\n",
    "    yArr = ophyd.Component(MyWaveform, Y_WAVE_PV)\n",
    "\n",
    "where the PV names (`BUSY_PV`, ...) are configured near the top of the code (where it can be seen easily by users).\n",
    "\n",
    "The *activity* consists of making sure the busy record starts at `Done` before we try to fly scan.  Wait for that, just in case.  \n",
    "\n",
    "    self.busy.state.put(BusyStatus.done)\n",
    "    self.wait_busy() \n",
    "\n",
    "Then, set it to `Busy` and wait for `Done`.  \n",
    "\n",
    "    self.t0 = time.time()\n",
    "    self.busy.state.put(BusyStatus.busy)\n",
    "    self.wait_busy() \n",
    "\n",
    "Once done, set the status object and return, ending the thread.\n",
    "\n",
    "    self._completion_status._finished(success=True)\n",
    "\n",
    "With real data, we need to modify both `collect()` and `describe_collect()` for each data to be yielded.  The names must match in both methods or the RunEngine will raise `KeyError: frozenset ...` and tell you about the data you tried to offer.  The names ***must match*** in both methods.\n",
    "\n",
    "See GitHub for a [summary of changes in source code](https://github.com/prjemian/ipython_mintvm/compare/a0af3ec57a3430e777b3...ce116e5e05774)."
   ]
  },
  {
   "cell_type": "code",
   "execution_count": 23,
   "metadata": {
    "collapsed": true
   },
   "outputs": [],
   "source": [
    "class MyFlyer(ophyd.Device):\n",
    "    \"\"\"\n",
    "    a basic Flyer for scans triggered by the synApps busy record\n",
    "    \"\"\"\n",
    "\n",
    "    busy = ophyd.Component(BusyRecord, BUSY_PV)\n",
    "    tArr = ophyd.Component(MyWaveform, TIME_WAVE_PV)\n",
    "    xArr = ophyd.Component(MyWaveform, X_WAVE_PV)\n",
    "    yArr = ophyd.Component(MyWaveform, Y_WAVE_PV)\n",
    "\n",
    "    def __init__(self, *args, **kwargs):\n",
    "        super().__init__('', parent=None, **kwargs)\n",
    "        self._completion_status = None\n",
    "        self.poll_sleep_interval_s = 0.05\n",
    "        self.t0 = 0\n",
    "\n",
    "    def wait_busy(self, target = None):\n",
    "        \"\"\"\n",
    "        wait for the busy record to return to the target value\n",
    "        \"\"\"\n",
    "        logger.debug(\"wait_busy()\")\n",
    "        target = target or BusyStatus.done\n",
    "\n",
    "        while self.busy.state.value not in (target):\n",
    "            time.sleep(self.poll_sleep_interval_s)  # wait to complete ...\n",
    " \n",
    "    def my_activity(self):\n",
    "        \"\"\"\n",
    "        start the \"fly scan\" here, could wait for completion\n",
    "        \n",
    "        It's OK to use blocking calls here \n",
    "        since this is called in a separate thread\n",
    "        from the BlueSky RunEngine.\n",
    "        \"\"\"\n",
    "        logger.info(\"activity()\")\n",
    "        if self._completion_status is None:\n",
    "            logger.info(\"leaving activity() - not complete\")\n",
    "            return\n",
    "        \n",
    "        # do the activity here\n",
    "        self.busy.state.put(BusyStatus.done) # make sure it's Done first\n",
    "        self.wait_busy()\n",
    "\n",
    "        # wait for completion\n",
    "        self.t0 = time.time()\n",
    "        self.busy.state.put(BusyStatus.busy)\n",
    "        self.wait_busy()\n",
    "        \n",
    "        self._completion_status._finished(success=True)\n",
    "        logger.info(\"activity() complete. status = \" + str(self._completion_status))\n",
    "\n",
    "    def kickoff(self):\n",
    "        \"\"\"\n",
    "        Start this Flyer\n",
    "        \"\"\"\n",
    "        logger.info(\"kickoff()\")\n",
    "        self._completion_status = ophyd.DeviceStatus(self)\n",
    "        \n",
    "        thread = threading.Thread(target=self.my_activity, daemon=True)\n",
    "        thread.start()\n",
    "\n",
    "        kickoff_status = ophyd.DeviceStatus(self)\n",
    "        kickoff_status._finished(success=True)\n",
    "        return kickoff_status\n",
    "\n",
    "    def complete(self):\n",
    "        \"\"\"\n",
    "        Wait for flying to be complete\n",
    "        \"\"\"\n",
    "        logger.info(\"complete()\")\n",
    "        if self._completion_status is None:\n",
    "            raise RuntimeError(\"No collection in progress\")\n",
    "\n",
    "        return self._completion_status\n",
    "\n",
    "    def describe_collect(self):\n",
    "        \"\"\"\n",
    "        Describe details for ``collect()`` method\n",
    "        \"\"\"\n",
    "        logger.info(\"describe_collect()\")\n",
    "        return {\n",
    "            self.name: dict(\n",
    "                ifly_xArr = dict(\n",
    "                    source = self.xArr.wave.pvname,\n",
    "                    dtype = \"number\",\n",
    "                    shape = (1,)\n",
    "                ),\n",
    "                ifly_yArr = dict(\n",
    "                    source = self.yArr.wave.pvname,\n",
    "                    dtype = \"number\",\n",
    "                    shape = (1,)\n",
    "                ),\n",
    "                ifly_tArr = dict(\n",
    "                    source = self.tArr.wave.pvname,\n",
    "                    dtype = \"number\",\n",
    "                    shape = (1,)\n",
    "                )\n",
    "            )\n",
    "        }\n",
    "\n",
    "    def collect(self):\n",
    "        \"\"\"\n",
    "        Start this Flyer\n",
    "        \"\"\"\n",
    "        logger.info(\"collect()\")\n",
    "        self._completion_status = None\n",
    "        for i in range(len(ifly.tArr.wave.value)):\n",
    "            t = ifly.tArr.wave.value[i]\n",
    "            x = ifly.xArr.wave.value[i]\n",
    "            y = ifly.yArr.wave.value[i]\n",
    "            d = dict(\n",
    "                time=time.time(),\n",
    "                data=dict(\n",
    "                    ifly_tArr = time.time() - self.t0,\n",
    "                    ifly_xArr = x,\n",
    "                    ifly_yArr = y,\n",
    "                ),\n",
    "                timestamps=dict(\n",
    "                    ifly_tArr = t,\n",
    "                    ifly_xArr = t,\n",
    "                    ifly_yArr = t,\n",
    "                )\n",
    "            )\n",
    "            yield d\n"
   ]
  },
  {
   "cell_type": "code",
   "execution_count": 24,
   "metadata": {
    "collapsed": true
   },
   "outputs": [],
   "source": [
    "ifly = MyFlyer(\"prj:\", name=\"ifly\")"
   ]
  },
  {
   "cell_type": "markdown",
   "metadata": {},
   "source": [
    "Verify that we connected with the busy record, *et al.* by printing the current state."
   ]
  },
  {
   "cell_type": "code",
   "execution_count": 25,
   "metadata": {},
   "outputs": [
    {
     "name": "stdout",
     "output_type": "stream",
     "text": [
      "prj:mybusy Done\n"
     ]
    }
   ],
   "source": [
    "print(ifly.busy.state.pvname, ifly.busy.state.value)"
   ]
  },
  {
   "cell_type": "code",
   "execution_count": 26,
   "metadata": {},
   "outputs": [
    {
     "data": {
      "text/plain": [
       "{'ifly': {'ifly_tArr': {'dtype': 'number',\n",
       "   'shape': (1,),\n",
       "   'source': 'prj:t_array'},\n",
       "  'ifly_xArr': {'dtype': 'number', 'shape': (1,), 'source': 'prj:x_array'},\n",
       "  'ifly_yArr': {'dtype': 'number', 'shape': (1,), 'source': 'prj:y_array'}}}"
      ]
     },
     "execution_count": 26,
     "metadata": {},
     "output_type": "execute_result"
    }
   ],
   "source": [
    "ifly.describe_collect()"
   ]
  },
  {
   "cell_type": "code",
   "execution_count": 27,
   "metadata": {},
   "outputs": [
    {
     "data": {
      "text/plain": [
       "[{'data': {'ifly_tArr': 1524796485.5732472,\n",
       "   'ifly_xArr': -1.23,\n",
       "   'ifly_yArr': 0.5532158388647288},\n",
       "  'time': 1524796485.573247,\n",
       "  'timestamps': {'ifly_tArr': 1524796409.1263919,\n",
       "   'ifly_xArr': 1524796409.1263919,\n",
       "   'ifly_yArr': 1524796409.1263919}},\n",
       " {'data': {'ifly_tArr': 1524796485.5739148,\n",
       "   'ifly_xArr': 0.87,\n",
       "   'ifly_yArr': 0.25934233615625241},\n",
       "  'time': 1524796485.5739145,\n",
       "  'timestamps': {'ifly_tArr': 1524796411.5234711,\n",
       "   'ifly_xArr': 1524796411.5234711,\n",
       "   'ifly_yArr': 1524796411.5234711}},\n",
       " {'data': {'ifly_tArr': 1524796485.574529,\n",
       "   'ifly_xArr': 2.9700000000000002,\n",
       "   'ifly_yArr': 0.75814450293736169},\n",
       "  'time': 1524796485.5745287,\n",
       "  'timestamps': {'ifly_tArr': 1524796413.932694,\n",
       "   'ifly_xArr': 1524796413.932694,\n",
       "   'ifly_yArr': 1524796413.932694}},\n",
       " {'data': {'ifly_tArr': 1524796485.5751233,\n",
       "   'ifly_xArr': 5.0700000000000003,\n",
       "   'ifly_yArr': 0.4101930266269932},\n",
       "  'time': 1524796485.5751226,\n",
       "  'timestamps': {'ifly_tArr': 1524796416.339931,\n",
       "   'ifly_xArr': 1524796416.339931,\n",
       "   'ifly_yArr': 1524796416.339931}},\n",
       " {'data': {'ifly_tArr': 1524796485.5783734,\n",
       "   'ifly_xArr': 7.1699999999999999,\n",
       "   'ifly_yArr': 0.0087129015030136571},\n",
       "  'time': 1524796485.5783732,\n",
       "  'timestamps': {'ifly_tArr': 1524796418.7430561,\n",
       "   'ifly_xArr': 1524796418.7430561,\n",
       "   'ifly_yArr': 1524796418.7430561}}]"
      ]
     },
     "execution_count": 27,
     "metadata": {},
     "output_type": "execute_result"
    }
   ],
   "source": [
    "list(ifly.collect())"
   ]
  },
  {
   "cell_type": "code",
   "execution_count": 28,
   "metadata": {},
   "outputs": [
    {
     "data": {
      "text/plain": [
       "('e3f06c2a-f888-4923-b74b-d18c3974a807',)"
      ]
     },
     "execution_count": 28,
     "metadata": {},
     "output_type": "execute_result"
    }
   ],
   "source": [
    "RE(bluesky.plans.fly([ifly]), md=dict(purpose=\"develop Flyer for APS fly scans\"))"
   ]
  },
  {
   "cell_type": "code",
   "execution_count": 29,
   "metadata": {},
   "outputs": [
    {
     "data": {
      "text/html": [
       "<div>\n",
       "<table border=\"1\" class=\"dataframe\">\n",
       "  <thead>\n",
       "    <tr style=\"text-align: right;\">\n",
       "      <th></th>\n",
       "      <th>time</th>\n",
       "      <th>ifly_xArr</th>\n",
       "      <th>ifly_yArr</th>\n",
       "      <th>ifly_tArr</th>\n",
       "    </tr>\n",
       "    <tr>\n",
       "      <th>seq_num</th>\n",
       "      <th></th>\n",
       "      <th></th>\n",
       "      <th></th>\n",
       "      <th></th>\n",
       "    </tr>\n",
       "  </thead>\n",
       "  <tbody>\n",
       "    <tr>\n",
       "      <th>1</th>\n",
       "      <td>2018-04-26 21:34:55.706805</td>\n",
       "      <td>-1.23</td>\n",
       "      <td>0.008713</td>\n",
       "      <td>10.057854</td>\n",
       "    </tr>\n",
       "    <tr>\n",
       "      <th>2</th>\n",
       "      <td>2018-04-26 21:34:55.707652</td>\n",
       "      <td>0.87</td>\n",
       "      <td>0.549081</td>\n",
       "      <td>10.058702</td>\n",
       "    </tr>\n",
       "    <tr>\n",
       "      <th>3</th>\n",
       "      <td>2018-04-26 21:34:55.708228</td>\n",
       "      <td>2.97</td>\n",
       "      <td>0.830304</td>\n",
       "      <td>10.059278</td>\n",
       "    </tr>\n",
       "    <tr>\n",
       "      <th>4</th>\n",
       "      <td>2018-04-26 21:34:55.708828</td>\n",
       "      <td>5.07</td>\n",
       "      <td>0.029648</td>\n",
       "      <td>10.059878</td>\n",
       "    </tr>\n",
       "    <tr>\n",
       "      <th>5</th>\n",
       "      <td>2018-04-26 21:34:55.709381</td>\n",
       "      <td>7.17</td>\n",
       "      <td>0.642527</td>\n",
       "      <td>10.060431</td>\n",
       "    </tr>\n",
       "  </tbody>\n",
       "</table>\n",
       "</div>"
      ],
      "text/plain": [
       "                              time  ifly_xArr  ifly_yArr  ifly_tArr\n",
       "seq_num                                                            \n",
       "1       2018-04-26 21:34:55.706805      -1.23   0.008713  10.057854\n",
       "2       2018-04-26 21:34:55.707652       0.87   0.549081  10.058702\n",
       "3       2018-04-26 21:34:55.708228       2.97   0.830304  10.059278\n",
       "4       2018-04-26 21:34:55.708828       5.07   0.029648  10.059878\n",
       "5       2018-04-26 21:34:55.709381       7.17   0.642527  10.060431"
      ]
     },
     "execution_count": 29,
     "metadata": {},
     "output_type": "execute_result"
    }
   ],
   "source": [
    "h = db[-1]\n",
    "h.table(h.stream_names[0])"
   ]
  },
  {
   "cell_type": "code",
   "execution_count": 30,
   "metadata": {},
   "outputs": [
    {
     "data": {
      "text/plain": [
       "[('start',\n",
       "  {'md': {'purpose': 'develop Flyer for APS fly scans'},\n",
       "   'plan_name': 'fly',\n",
       "   'plan_type': 'generator',\n",
       "   'scan_id': 5,\n",
       "   'time': 1524796485.6208344,\n",
       "   'uid': 'e3f06c2a-f888-4923-b74b-d18c3974a807'}),\n",
       " ('descriptor',\n",
       "  {'data_keys': {'ifly_tArr': {'dtype': 'number',\n",
       "     'shape': [1],\n",
       "     'source': 'prj:t_array'},\n",
       "    'ifly_xArr': {'dtype': 'number', 'shape': [1], 'source': 'prj:x_array'},\n",
       "    'ifly_yArr': {'dtype': 'number', 'shape': [1], 'source': 'prj:y_array'}},\n",
       "   'hints': {},\n",
       "   'name': 'ifly',\n",
       "   'object_keys': {'ifly': ['ifly_xArr', 'ifly_yArr', 'ifly_tArr']},\n",
       "   'run_start': 'e3f06c2a-f888-4923-b74b-d18c3974a807',\n",
       "   'time': 1524796495.688592,\n",
       "   'uid': '0f04ce96-d974-44c2-ba30-aab59cb0c386'}),\n",
       " ('event',\n",
       "  {'data': {'ifly_tArr': 10.057854413986206,\n",
       "    'ifly_xArr': -1.23,\n",
       "    'ifly_yArr': 0.008712901503013657},\n",
       "   'descriptor': '0f04ce96-d974-44c2-ba30-aab59cb0c386',\n",
       "   'filled': {},\n",
       "   'seq_num': 1,\n",
       "   'time': 1524796495.7068045,\n",
       "   'timestamps': {'ifly_tArr': 1524796486.060005,\n",
       "    'ifly_xArr': 1524796486.060005,\n",
       "    'ifly_yArr': 1524796486.060005},\n",
       "   'uid': '07cc1f3a-1e52-4034-8e31-855062321471'}),\n",
       " ('event',\n",
       "  {'data': {'ifly_tArr': 10.058701753616333,\n",
       "    'ifly_xArr': 0.87,\n",
       "    'ifly_yArr': 0.5490806439307241},\n",
       "   'descriptor': '0f04ce96-d974-44c2-ba30-aab59cb0c386',\n",
       "   'filled': {},\n",
       "   'seq_num': 2,\n",
       "   'time': 1524796495.7076519,\n",
       "   'timestamps': {'ifly_tArr': 1524796488.461101,\n",
       "    'ifly_xArr': 1524796488.461101,\n",
       "    'ifly_yArr': 1524796488.461101},\n",
       "   'uid': '01cfa66e-7e6e-4b5e-b9dd-85a7571660a1'}),\n",
       " ('event',\n",
       "  {'data': {'ifly_tArr': 10.059277772903442,\n",
       "    'ifly_xArr': 2.97,\n",
       "    'ifly_yArr': 0.8303044174868391},\n",
       "   'descriptor': '0f04ce96-d974-44c2-ba30-aab59cb0c386',\n",
       "   'filled': {},\n",
       "   'seq_num': 3,\n",
       "   'time': 1524796495.7082279,\n",
       "   'timestamps': {'ifly_tArr': 1524796490.868328,\n",
       "    'ifly_xArr': 1524796490.868328,\n",
       "    'ifly_yArr': 1524796490.868328},\n",
       "   'uid': 'd11fc351-9da5-4c98-bb1a-0fd5c7dda65f'}),\n",
       " ('event',\n",
       "  {'data': {'ifly_tArr': 10.059877872467041,\n",
       "    'ifly_xArr': 5.07,\n",
       "    'ifly_yArr': 0.029648279545281146},\n",
       "   'descriptor': '0f04ce96-d974-44c2-ba30-aab59cb0c386',\n",
       "   'filled': {},\n",
       "   'seq_num': 4,\n",
       "   'time': 1524796495.708828,\n",
       "   'timestamps': {'ifly_tArr': 1524796493.272972,\n",
       "    'ifly_xArr': 1524796493.272972,\n",
       "    'ifly_yArr': 1524796493.272972},\n",
       "   'uid': 'a654d658-49cd-4f56-aa50-08ea40e56737'}),\n",
       " ('event',\n",
       "  {'data': {'ifly_tArr': 10.060431241989136,\n",
       "    'ifly_xArr': 7.17,\n",
       "    'ifly_yArr': 0.642526894026093},\n",
       "   'descriptor': '0f04ce96-d974-44c2-ba30-aab59cb0c386',\n",
       "   'filled': {},\n",
       "   'seq_num': 5,\n",
       "   'time': 1524796495.7093813,\n",
       "   'timestamps': {'ifly_tArr': 1524796495.679212,\n",
       "    'ifly_xArr': 1524796495.679212,\n",
       "    'ifly_yArr': 1524796495.679212},\n",
       "   'uid': 'b0401d6a-b01c-40d2-afe2-5a5ea64a1135'}),\n",
       " ('stop',\n",
       "  {'exit_status': 'success',\n",
       "   'num_events': {'ifly': 5},\n",
       "   'run_start': 'e3f06c2a-f888-4923-b74b-d18c3974a807',\n",
       "   'time': 1524796495.7251835,\n",
       "   'uid': '91f352bf-ce05-4c81-b2c1-2fa554d9f1fa'})]"
      ]
     },
     "execution_count": 30,
     "metadata": {},
     "output_type": "execute_result"
    }
   ],
   "source": [
    "list(h.documents())"
   ]
  }
 ],
 "metadata": {
  "kernelspec": {
   "display_name": "Python 3",
   "language": "python",
   "name": "python3"
  },
  "language_info": {
   "codemirror_mode": {
    "name": "ipython",
    "version": 3
   },
   "file_extension": ".py",
   "mimetype": "text/x-python",
   "name": "python",
   "nbconvert_exporter": "python",
   "pygments_lexer": "ipython3",
   "version": "3.6.3"
  }
 },
 "nbformat": 4,
 "nbformat_minor": 2
}
