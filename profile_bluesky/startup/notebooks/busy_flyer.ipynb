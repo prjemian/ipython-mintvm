{
 "cells": [
  {
   "cell_type": "markdown",
   "metadata": {},
   "source": [
    "# BlueSky Flyer that uses the synApps busy record\n",
    "\n",
    "EPICS fly scans that use external controllers, such as hardware-assisted fly scans, are triggered by the EPICS *busy* record.  The *busy* record is set, which triggers the external controller to do the fly scan and then reset the *busy* record.\n",
    "\n",
    "Here, we refer to this external controller as the *controller*.\n",
    "\n",
    "\n",
    "## Python imports and definitions <a class=\"anchor\" id=\"imports\" />\n",
    "\n",
    "Here are the full set of packages to imported.  The first block are Python standard packages, then come the ophyd and BluSky packages.  Just the parts we plan on using here.  Since this is also a tutorial, we will not rename imports or use other such shortcuts in the documentation (the online code has some shortcuts).\n",
    "\n",
    "* Create a logger instance in case we want to investigate internal details as our code runs.\n",
    "* Create an instance of the BlueSky RunEngine.\n",
    "* Create an instance of the databroker using the `mongodb_config.yml` file on the local machine\n",
    "* Arrange for the databroker to receive all events from the RunEngine\n"
   ]
  },
  {
   "cell_type": "code",
   "execution_count": 1,
   "metadata": {},
   "outputs": [
    {
     "data": {
      "text/plain": [
       "0"
      ]
     },
     "execution_count": 1,
     "metadata": {},
     "output_type": "execute_result"
    }
   ],
   "source": [
    "import enum\n",
    "import logging\n",
    "import threading\n",
    "import time\n",
    "\n",
    "import ophyd\n",
    "import bluesky\n",
    "import bluesky.plans\n",
    "import databroker\n",
    "\n",
    "logger = logging.getLogger()\n",
    "RE = bluesky.RunEngine({})\n",
    "db = databroker.Broker.named(\"mongodb_config\")\n",
    "RE.subscribe(db.insert)"
   ]
  },
  {
   "cell_type": "markdown",
   "metadata": {},
   "source": [
    "## EPICS PV names <a class=\"anchor\" id=\"pvnames\" />\n",
    "\n",
    "These are the EPICS PV names we'll be using for the demo, as defined in this EPICS database, added to our EPICS IOC startup:\n",
    "\n",
    "```\n",
    "record(waveform, \"$(P)str_wave\")\n",
    "{\n",
    "    field(FTVL, \"CHAR\")\n",
    "    field(NELM, \"256\")\n",
    "}\n",
    "record(waveform, \"$(P)t_array\")\n",
    "{\n",
    "    field(DESC, \"timestamps\")\n",
    "    field(FTVL, \"DOUBLE\")\n",
    "    field(NELM, \"256\")\n",
    "}\n",
    "record(waveform, \"$(P)x_array\")\n",
    "{\n",
    "    field(DESC, \"positions\")\n",
    "    field(FTVL, \"DOUBLE\")\n",
    "    field(NELM, \"256\")\n",
    "}\n",
    "record(waveform, \"$(P)y_array\")\n",
    "{\n",
    "    field(DESC, \"signals\")\n",
    "    field(FTVL, \"DOUBLE\")\n",
    "    field(NELM, \"256\")\n",
    "}\n",
    "```\n",
    "\n",
    "The waveforms allow for up to 256 values to be kept."
   ]
  },
  {
   "cell_type": "code",
   "execution_count": 2,
   "metadata": {
    "collapsed": true
   },
   "outputs": [],
   "source": [
    "BUSY_PV = 'prj:mybusy'\n",
    "TIME_WAVE_PV = 'prj:t_array'\n",
    "X_WAVE_PV = 'prj:x_array'\n",
    "Y_WAVE_PV = 'prj:y_array'"
   ]
  },
  {
   "cell_type": "markdown",
   "metadata": {},
   "source": [
    "## External pseudo-controller for fly scan <a class=\"anchor\" id=\"pseudo-controller\" />\n",
    "\n",
    "We'll create a *controller* that responds to the EPICS PV that signals a fly scan should be started.  The *controller* operates the fly scan and stores the collected data in EPICS PVs, then signals EPICS that the fly scan is complete.  BlueSky will observe that the fly scan is complete and collect the data from EPICS.\n",
    "\n",
    "A Python program has been built to act as the *controller*.  This *controller* moves a soft [motor](https://github.com/epics-modules/motor) record in a step scan and reads from an [swait](https://github.com/epics-modules/calc) record that has been configured to generate random numbers.\n",
    "\n",
    "The [pseudo-controller](https://github.com/prjemian/ipython_mintvm/blob/master/profile_bluesky/startup/local_code/busyExample.py) *and associated EPICS IOC* should be started outside of this jupyter notebook.  Since the interface is completely through EPICS PVs, it is not necessary for either the IOC or the pseudo-controller to be running on the some computer as the jupyter notebook.\n",
    "\n",
    "![control screen for the motor record](motor.png \"control screen for the motor record\")\n",
    "\n",
    "![control screen for the swait record](swait.png \"control screen for the swait record\")\n",
    "\n",
    "## Devices and support <a class=\"anchor\" id=\"devices\" />\n",
    "\n",
    "Define some ophyd Devices we'll use and support routines for them.\n",
    "\n",
    "### synApps busy record <a class=\"anchor\" id=\"busy-record\" />\n",
    "\n",
    "The synApps [busy](https://github.com/epics-modules/busy) record is a variation of a 0,1 (bit).  It is an integer that starts at zero.  *Busy* is set to one at the start of operations.  This triggers execution of one or more operations that must complete before *busy* is set back to zero.  \n",
    "\n",
    "![control screen for the busy record](busy.png \"control screen for the busy record\")"
   ]
  },
  {
   "cell_type": "code",
   "execution_count": 3,
   "metadata": {
    "collapsed": true
   },
   "outputs": [],
   "source": [
    "class BusyRecord(ophyd.Device):\n",
    "    \"\"\"a busy record sets the fly scan into action\"\"\"\n",
    "    state = ophyd.Component(ophyd.EpicsSignal, \"\", string=True)\n",
    "    output_link = ophyd.Component(ophyd.EpicsSignal, \".OUT\")\n",
    "    forward_link = ophyd.Component(ophyd.EpicsSignal, \".FLNK\")"
   ]
  },
  {
   "cell_type": "markdown",
   "metadata": {},
   "source": [
    "We won't need to use the `.OUT` or `.FLNK` fields in this example.\n",
    "\n",
    "\n",
    "### busy status values <a class=\"anchor\" id=\"busy-status-values\" />\n",
    "\n",
    "It is useful to define the state values (strings) so that clients have no ambiguity in spelling and error checking.\n",
    "\n",
    "use this | instead of\n",
    "---- | ----\n",
    "`BusyStatus.busy` | `\"Busy\"`\n",
    "`BusyStatus.done` | `\"Done\"`"
   ]
  },
  {
   "cell_type": "code",
   "execution_count": 4,
   "metadata": {
    "collapsed": true
   },
   "outputs": [],
   "source": [
    "class BusyStatus(str, enum.Enum):\n",
    "    busy = \"Busy\"\n",
    "    done = \"Done\""
   ]
  },
  {
   "cell_type": "markdown",
   "metadata": {},
   "source": [
    "We want a couple items from the [waveform](https://wiki-ext.aps.anl.gov/epics/index.php/RRM_3-14_Waveform) record.  Let's use a custom ophyd Device for just what we need here."
   ]
  },
  {
   "cell_type": "code",
   "execution_count": 5,
   "metadata": {
    "collapsed": true
   },
   "outputs": [],
   "source": [
    "class MyWaveform(ophyd.Device):\n",
    "    \"\"\"waveform records store fly scan data\"\"\"\n",
    "    wave = ophyd.Component(ophyd.EpicsSignalRO, \"\")\n",
    "    number_elements = ophyd.Component(ophyd.EpicsSignalRO, \".NELM\")\n",
    "    number_read = ophyd.Component(ophyd.EpicsSignalRO, \".NORD\")"
   ]
  },
  {
   "cell_type": "markdown",
   "metadata": {},
   "source": [
    "## Final, working Flyer <a class=\"anchor\" id=\"working-flyer\" />\n",
    "\n",
    "We'll start from the **Flyer that \"collects\" 1-D array data** as described in the `flyer_template` notebook (same directory as this notebook).\n",
    "\n",
    "If we want to poll the busy PV for it to be Done, then we needn't tie up the CPU completely.  We can poll at a more limited rate by adding a delay time between polling cehcks of the busy state.  50 ms should be fine for a scan that involves moving a motor.  Add this to the constructor:\n",
    "\n",
    "        self.poll_sleep_interval_s = 0.05\n",
    "\n",
    "Later, this is used to wait for the busy record:\n",
    "\n",
    "        while self.busy.state.value not in (BusyStatus.done):\n",
    "            time.sleep(self.poll_sleep_interval_s)\n",
    "\n",
    "Already, we added a starting time (`self.t0`) that is set at `kickoff()`.  This is used to measure elapsed time to each data reporting event.\n",
    "\n",
    "When talking to EPICS PVs, we create instances of each and add them to our Device:\n",
    "\n",
    "    busy = ophyd.Component(BusyRecord, BUSY_PV)\n",
    "    tArr = ophyd.Component(MyWaveform, TIME_WAVE_PV)\n",
    "    xArr = ophyd.Component(MyWaveform, X_WAVE_PV)\n",
    "    yArr = ophyd.Component(MyWaveform, Y_WAVE_PV)\n",
    "\n",
    "where the PV names (`BUSY_PV`, ...) are configured earlier in this notebook (where it can be seen easily by users).\n",
    "\n",
    "The *activity* consists of making sure the busy record starts at `Done` before we try to fly scan.  Wait for that, just in case.  \n",
    "\n",
    "    self.busy.state.put(BusyStatus.done)\n",
    "    self.wait_busy() \n",
    "\n",
    "Then, set it's state to `Busy` and wait for it to return to `Done`.  \n",
    "\n",
    "    self.t0 = time.time()\n",
    "    self.busy.state.put(BusyStatus.busy)\n",
    "    self.wait_busy() \n",
    "\n",
    "Once done, set the status object and return, ending the thread.\n",
    "\n",
    "    self._completion_status._finished(success=True)\n",
    "\n",
    "With real data, we need to modify both `collect()` and `describe_collect()` for each data to be yielded.  The names must match in both methods or the RunEngine will raise `KeyError: frozenset ...` and tell you about the data you tried to offer.  The names ***must match*** in both methods.  In the `collect()` method, don't forget to return the status object to its value of `None`, signifying that we are not flying.\n",
    "\n",
    "See GitHub for a [summary of changes in source code](https://github.com/prjemian/ipython_mintvm/compare/a0af3ec57a3430e777b3...ce116e5e05774)."
   ]
  },
  {
   "cell_type": "code",
   "execution_count": 6,
   "metadata": {
    "collapsed": true
   },
   "outputs": [],
   "source": [
    "class MyFlyer(ophyd.Device):\n",
    "    \"\"\"\n",
    "    a basic Flyer for scans triggered by the synApps busy record\n",
    "    \"\"\"\n",
    "\n",
    "    busy = ophyd.Component(BusyRecord, BUSY_PV)\n",
    "    tArr = ophyd.Component(MyWaveform, TIME_WAVE_PV)\n",
    "    xArr = ophyd.Component(MyWaveform, X_WAVE_PV)\n",
    "    yArr = ophyd.Component(MyWaveform, Y_WAVE_PV)\n",
    "\n",
    "    def __init__(self, *args, **kwargs):\n",
    "        super().__init__('', parent=None, **kwargs)\n",
    "        self._completion_status = None\n",
    "        self.poll_sleep_interval_s = 0.05\n",
    "        self.t0 = 0\n",
    "\n",
    "    def wait_busy(self, target = None):\n",
    "        \"\"\"\n",
    "        wait for the busy record to return to the target value\n",
    "        \"\"\"\n",
    "        logger.debug(\"wait_busy()\")\n",
    "        target = target or BusyStatus.done\n",
    "\n",
    "        while self.busy.state.value not in (target):\n",
    "            time.sleep(self.poll_sleep_interval_s)  # wait to complete ...\n",
    " \n",
    "    def my_activity(self):\n",
    "        \"\"\"\n",
    "        start the \"fly scan\" here, could wait for completion\n",
    "        \n",
    "        It's OK to use blocking calls here \n",
    "        since this is called in a separate thread\n",
    "        from the BlueSky RunEngine.\n",
    "        \"\"\"\n",
    "        logger.info(\"activity()\")\n",
    "        if self._completion_status is None:\n",
    "            logger.info(\"leaving activity() - not complete\")\n",
    "            return\n",
    "        \n",
    "        # do the activity here\n",
    "        self.busy.state.put(BusyStatus.done) # make sure it's Done first\n",
    "        self.wait_busy()\n",
    "\n",
    "        # wait for completion\n",
    "        self.t0 = time.time()\n",
    "        self.busy.state.put(BusyStatus.busy)\n",
    "        self.wait_busy()\n",
    "        \n",
    "        self._completion_status._finished(success=True)\n",
    "        logger.info(\"activity() complete. status = \" + str(self._completion_status))\n",
    "\n",
    "    def kickoff(self):\n",
    "        \"\"\"\n",
    "        Start this Flyer\n",
    "        \"\"\"\n",
    "        logger.info(\"kickoff()\")\n",
    "        self._completion_status = ophyd.DeviceStatus(self)\n",
    "        \n",
    "        thread = threading.Thread(target=self.my_activity, daemon=True)\n",
    "        thread.start()\n",
    "\n",
    "        kickoff_status = ophyd.DeviceStatus(self)\n",
    "        kickoff_status._finished(success=True)\n",
    "        return kickoff_status\n",
    "\n",
    "    def complete(self):\n",
    "        \"\"\"\n",
    "        Wait for flying to be complete\n",
    "        \"\"\"\n",
    "        logger.info(\"complete()\")\n",
    "        if self._completion_status is None:\n",
    "            raise RuntimeError(\"No collection in progress\")\n",
    "\n",
    "        return self._completion_status\n",
    "\n",
    "    def describe_collect(self):\n",
    "        \"\"\"\n",
    "        Describe details for ``collect()`` method\n",
    "        \"\"\"\n",
    "        logger.info(\"describe_collect()\")\n",
    "        return {\n",
    "            self.name: dict(\n",
    "                ifly_xArr = dict(\n",
    "                    source = self.xArr.wave.pvname,\n",
    "                    dtype = \"number\",\n",
    "                    shape = (1,)\n",
    "                ),\n",
    "                ifly_yArr = dict(\n",
    "                    source = self.yArr.wave.pvname,\n",
    "                    dtype = \"number\",\n",
    "                    shape = (1,)\n",
    "                ),\n",
    "                ifly_tArr = dict(\n",
    "                    source = self.tArr.wave.pvname,\n",
    "                    dtype = \"number\",\n",
    "                    shape = (1,)\n",
    "                )\n",
    "            )\n",
    "        }\n",
    "\n",
    "    def collect(self):\n",
    "        \"\"\"\n",
    "        Start this Flyer\n",
    "        \"\"\"\n",
    "        logger.info(\"collect()\")\n",
    "        self._completion_status = None\n",
    "        for i in range(len(ifly.tArr.wave.value)):\n",
    "            t = ifly.tArr.wave.value[i]\n",
    "            x = ifly.xArr.wave.value[i]\n",
    "            y = ifly.yArr.wave.value[i]\n",
    "            d = dict(\n",
    "                time=time.time(),\n",
    "                data=dict(\n",
    "                    ifly_tArr = time.time() - self.t0,\n",
    "                    ifly_xArr = x,\n",
    "                    ifly_yArr = y,\n",
    "                ),\n",
    "                timestamps=dict(\n",
    "                    ifly_tArr = t,\n",
    "                    ifly_xArr = t,\n",
    "                    ifly_yArr = t,\n",
    "                )\n",
    "            )\n",
    "            yield d\n"
   ]
  },
  {
   "cell_type": "code",
   "execution_count": 7,
   "metadata": {
    "collapsed": true
   },
   "outputs": [],
   "source": [
    "ifly = MyFlyer(\"prj:\", name=\"ifly\")"
   ]
  },
  {
   "cell_type": "markdown",
   "metadata": {},
   "source": [
    "Verify that we connected with the busy record, *et al.* by printing the current state."
   ]
  },
  {
   "cell_type": "code",
   "execution_count": 8,
   "metadata": {},
   "outputs": [
    {
     "name": "stdout",
     "output_type": "stream",
     "text": [
      "prj:mybusy Done\n"
     ]
    }
   ],
   "source": [
    "print(ifly.busy.state.pvname, ifly.busy.state.value)"
   ]
  },
  {
   "cell_type": "code",
   "execution_count": 9,
   "metadata": {},
   "outputs": [
    {
     "data": {
      "text/plain": [
       "{'ifly': {'ifly_tArr': {'dtype': 'number',\n",
       "   'shape': (1,),\n",
       "   'source': 'prj:t_array'},\n",
       "  'ifly_xArr': {'dtype': 'number', 'shape': (1,), 'source': 'prj:x_array'},\n",
       "  'ifly_yArr': {'dtype': 'number', 'shape': (1,), 'source': 'prj:y_array'}}}"
      ]
     },
     "execution_count": 9,
     "metadata": {},
     "output_type": "execute_result"
    }
   ],
   "source": [
    "ifly.describe_collect()"
   ]
  },
  {
   "cell_type": "code",
   "execution_count": 10,
   "metadata": {},
   "outputs": [
    {
     "data": {
      "text/plain": [
       "[{'data': {'ifly_tArr': 1524800743.0476582,\n",
       "   'ifly_xArr': -1.23,\n",
       "   'ifly_yArr': 0.64252689402609298},\n",
       "  'time': 1524800743.047658,\n",
       "  'timestamps': {'ifly_tArr': 1524800699.2301791,\n",
       "   'ifly_xArr': 1524800699.2301791,\n",
       "   'ifly_yArr': 1524800699.2301791}},\n",
       " {'data': {'ifly_tArr': 1524800743.0491278,\n",
       "   'ifly_xArr': 0.87,\n",
       "   'ifly_yArr': 0.48380254825665675},\n",
       "  'time': 1524800743.0491276,\n",
       "  'timestamps': {'ifly_tArr': 1524800701.6366019,\n",
       "   'ifly_xArr': 1524800701.6366019,\n",
       "   'ifly_yArr': 1524800701.6366019}},\n",
       " {'data': {'ifly_tArr': 1524800743.0521252,\n",
       "   'ifly_xArr': 2.9700000000000002,\n",
       "   'ifly_yArr': 0.85040054932478826},\n",
       "  'time': 1524800743.052125,\n",
       "  'timestamps': {'ifly_tArr': 1524800704.0421901,\n",
       "   'ifly_xArr': 1524800704.0421901,\n",
       "   'ifly_yArr': 1524800704.0421901}},\n",
       " {'data': {'ifly_tArr': 1524800743.0535603,\n",
       "   'ifly_xArr': 5.0700000000000003,\n",
       "   'ifly_yArr': 0.83656061646448465},\n",
       "  'time': 1524800743.05356,\n",
       "  'timestamps': {'ifly_tArr': 1524800706.448878,\n",
       "   'ifly_xArr': 1524800706.448878,\n",
       "   'ifly_yArr': 1524800706.448878}},\n",
       " {'data': {'ifly_tArr': 1524800743.057136,\n",
       "   'ifly_xArr': 7.1699999999999999,\n",
       "   'ifly_yArr': 0.62026398107881286},\n",
       "  'time': 1524800743.0571358,\n",
       "  'timestamps': {'ifly_tArr': 1524800708.855041,\n",
       "   'ifly_xArr': 1524800708.855041,\n",
       "   'ifly_yArr': 1524800708.855041}}]"
      ]
     },
     "execution_count": 10,
     "metadata": {},
     "output_type": "execute_result"
    }
   ],
   "source": [
    "list(ifly.collect())"
   ]
  },
  {
   "cell_type": "code",
   "execution_count": 11,
   "metadata": {},
   "outputs": [
    {
     "data": {
      "text/plain": [
       "('249e9739-dd9d-4cce-afb3-f883c0c5434f',)"
      ]
     },
     "execution_count": 11,
     "metadata": {},
     "output_type": "execute_result"
    }
   ],
   "source": [
    "RE(bluesky.plans.fly([ifly]), md=dict(purpose=\"develop Flyer for APS fly scans\"))"
   ]
  },
  {
   "cell_type": "code",
   "execution_count": 12,
   "metadata": {},
   "outputs": [
    {
     "data": {
      "text/html": [
       "<div>\n",
       "<table border=\"1\" class=\"dataframe\">\n",
       "  <thead>\n",
       "    <tr style=\"text-align: right;\">\n",
       "      <th></th>\n",
       "      <th>time</th>\n",
       "      <th>ifly_xArr</th>\n",
       "      <th>ifly_yArr</th>\n",
       "      <th>ifly_tArr</th>\n",
       "    </tr>\n",
       "    <tr>\n",
       "      <th>seq_num</th>\n",
       "      <th></th>\n",
       "      <th></th>\n",
       "      <th></th>\n",
       "      <th></th>\n",
       "    </tr>\n",
       "  </thead>\n",
       "  <tbody>\n",
       "    <tr>\n",
       "      <th>1</th>\n",
       "      <td>2018-04-26 22:46:01.325494</td>\n",
       "      <td>-1.23</td>\n",
       "      <td>0.042573</td>\n",
       "      <td>18.209701</td>\n",
       "    </tr>\n",
       "    <tr>\n",
       "      <th>2</th>\n",
       "      <td>2018-04-26 22:46:01.329039</td>\n",
       "      <td>0.87</td>\n",
       "      <td>0.455314</td>\n",
       "      <td>18.213246</td>\n",
       "    </tr>\n",
       "    <tr>\n",
       "      <th>3</th>\n",
       "      <td>2018-04-26 22:46:01.329623</td>\n",
       "      <td>2.97</td>\n",
       "      <td>0.178042</td>\n",
       "      <td>18.213829</td>\n",
       "    </tr>\n",
       "    <tr>\n",
       "      <th>4</th>\n",
       "      <td>2018-04-26 22:46:01.330728</td>\n",
       "      <td>5.07</td>\n",
       "      <td>0.127031</td>\n",
       "      <td>18.214934</td>\n",
       "    </tr>\n",
       "    <tr>\n",
       "      <th>5</th>\n",
       "      <td>2018-04-26 22:46:01.331759</td>\n",
       "      <td>7.17</td>\n",
       "      <td>0.928511</td>\n",
       "      <td>18.215966</td>\n",
       "    </tr>\n",
       "  </tbody>\n",
       "</table>\n",
       "</div>"
      ],
      "text/plain": [
       "                              time  ifly_xArr  ifly_yArr  ifly_tArr\n",
       "seq_num                                                            \n",
       "1       2018-04-26 22:46:01.325494      -1.23   0.042573  18.209701\n",
       "2       2018-04-26 22:46:01.329039       0.87   0.455314  18.213246\n",
       "3       2018-04-26 22:46:01.329623       2.97   0.178042  18.213829\n",
       "4       2018-04-26 22:46:01.330728       5.07   0.127031  18.214934\n",
       "5       2018-04-26 22:46:01.331759       7.17   0.928511  18.215966"
      ]
     },
     "execution_count": 12,
     "metadata": {},
     "output_type": "execute_result"
    }
   ],
   "source": [
    "h = db[-1]\n",
    "h.table(h.stream_names[0])"
   ]
  },
  {
   "cell_type": "code",
   "execution_count": 13,
   "metadata": {},
   "outputs": [
    {
     "data": {
      "text/plain": [
       "[('start',\n",
       "  {'md': {'purpose': 'develop Flyer for APS fly scans'},\n",
       "   'plan_name': 'fly',\n",
       "   'plan_type': 'generator',\n",
       "   'scan_id': 1,\n",
       "   'time': 1524800743.0884168,\n",
       "   'uid': '249e9739-dd9d-4cce-afb3-f883c0c5434f'}),\n",
       " ('descriptor',\n",
       "  {'data_keys': {'ifly_tArr': {'dtype': 'number',\n",
       "     'shape': [1],\n",
       "     'source': 'prj:t_array'},\n",
       "    'ifly_xArr': {'dtype': 'number', 'shape': [1], 'source': 'prj:x_array'},\n",
       "    'ifly_yArr': {'dtype': 'number', 'shape': [1], 'source': 'prj:y_array'}},\n",
       "   'hints': {},\n",
       "   'name': 'ifly',\n",
       "   'object_keys': {'ifly': ['ifly_xArr', 'ifly_yArr', 'ifly_tArr']},\n",
       "   'run_start': '249e9739-dd9d-4cce-afb3-f883c0c5434f',\n",
       "   'time': 1524800761.3027973,\n",
       "   'uid': 'f1844247-8beb-4535-abce-81d3436ba8c6'}),\n",
       " ('event',\n",
       "  {'data': {'ifly_tArr': 18.2097008228302,\n",
       "    'ifly_xArr': -1.23,\n",
       "    'ifly_yArr': 0.04257267109178302},\n",
       "   'descriptor': 'f1844247-8beb-4535-abce-81d3436ba8c6',\n",
       "   'filled': {},\n",
       "   'seq_num': 1,\n",
       "   'time': 1524800761.325494,\n",
       "   'timestamps': {'ifly_tArr': 1524800751.673799,\n",
       "    'ifly_xArr': 1524800751.673799,\n",
       "    'ifly_yArr': 1524800751.673799},\n",
       "   'uid': '07afab0f-9c68-45f5-a88b-cf4966e4a8ca'}),\n",
       " ('event',\n",
       "  {'data': {'ifly_tArr': 18.21324586868286,\n",
       "    'ifly_xArr': 0.87,\n",
       "    'ifly_yArr': 0.4553139543755245},\n",
       "   'descriptor': 'f1844247-8beb-4535-abce-81d3436ba8c6',\n",
       "   'filled': {},\n",
       "   'seq_num': 2,\n",
       "   'time': 1524800761.329039,\n",
       "   'timestamps': {'ifly_tArr': 1524800754.079683,\n",
       "    'ifly_xArr': 1524800754.079683,\n",
       "    'ifly_yArr': 1524800754.079683},\n",
       "   'uid': '9e62e9c1-f927-4616-aa48-7fff3b651ed7'}),\n",
       " ('event',\n",
       "  {'data': {'ifly_tArr': 18.213829278945923,\n",
       "    'ifly_xArr': 2.97,\n",
       "    'ifly_yArr': 0.17804226749065385},\n",
       "   'descriptor': 'f1844247-8beb-4535-abce-81d3436ba8c6',\n",
       "   'filled': {},\n",
       "   'seq_num': 3,\n",
       "   'time': 1524800761.3296227,\n",
       "   'timestamps': {'ifly_tArr': 1524800756.486168,\n",
       "    'ifly_xArr': 1524800756.486168,\n",
       "    'ifly_yArr': 1524800756.486168},\n",
       "   'uid': '157b95a7-6213-4181-81e9-a7c5615170eb'}),\n",
       " ('event',\n",
       "  {'data': {'ifly_tArr': 18.21493434906006,\n",
       "    'ifly_xArr': 5.07,\n",
       "    'ifly_yArr': 0.1270313572899977},\n",
       "   'descriptor': 'f1844247-8beb-4535-abce-81d3436ba8c6',\n",
       "   'filled': {},\n",
       "   'seq_num': 4,\n",
       "   'time': 1524800761.3307276,\n",
       "   'timestamps': {'ifly_tArr': 1524800758.892533,\n",
       "    'ifly_xArr': 1524800758.892533,\n",
       "    'ifly_yArr': 1524800758.892533},\n",
       "   'uid': 'ec04c794-b42b-4f39-b57b-4956c0676f28'}),\n",
       " ('event',\n",
       "  {'data': {'ifly_tArr': 18.215965509414673,\n",
       "    'ifly_xArr': 7.17,\n",
       "    'ifly_yArr': 0.9285114824139773},\n",
       "   'descriptor': 'f1844247-8beb-4535-abce-81d3436ba8c6',\n",
       "   'filled': {},\n",
       "   'seq_num': 5,\n",
       "   'time': 1524800761.3317587,\n",
       "   'timestamps': {'ifly_tArr': 1524800761.298913,\n",
       "    'ifly_xArr': 1524800761.298913,\n",
       "    'ifly_yArr': 1524800761.298913},\n",
       "   'uid': '29af5d00-60fa-4894-8360-319324d81a78'}),\n",
       " ('stop',\n",
       "  {'exit_status': 'success',\n",
       "   'num_events': {'ifly': 5},\n",
       "   'run_start': '249e9739-dd9d-4cce-afb3-f883c0c5434f',\n",
       "   'time': 1524800761.3432066,\n",
       "   'uid': 'f3748972-600d-46b6-894b-6dc8a4744de3'})]"
      ]
     },
     "execution_count": 13,
     "metadata": {},
     "output_type": "execute_result"
    }
   ],
   "source": [
    "list(h.documents())"
   ]
  },
  {
   "cell_type": "code",
   "execution_count": null,
   "metadata": {
    "collapsed": true
   },
   "outputs": [],
   "source": []
  }
 ],
 "metadata": {
  "kernelspec": {
   "display_name": "Python 3",
   "language": "python",
   "name": "python3"
  },
  "language_info": {
   "codemirror_mode": {
    "name": "ipython",
    "version": 3
   },
   "file_extension": ".py",
   "mimetype": "text/x-python",
   "name": "python",
   "nbconvert_exporter": "python",
   "pygments_lexer": "ipython3",
   "version": "3.6.3"
  }
 },
 "nbformat": 4,
 "nbformat_minor": 2
}
