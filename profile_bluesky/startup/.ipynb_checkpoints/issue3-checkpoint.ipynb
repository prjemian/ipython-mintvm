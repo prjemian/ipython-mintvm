{
 "cells": [
  {
   "cell_type": "markdown",
   "metadata": {},
   "source": [
    "# the `BusyFlyerMixin`"
   ]
  },
  {
   "cell_type": "code",
   "execution_count": 1,
   "metadata": {},
   "outputs": [
    {
     "data": {
      "text/plain": [
       "0"
      ]
     },
     "execution_count": 1,
     "metadata": {},
     "output_type": "execute_result"
    }
   ],
   "source": [
    "import enum\n",
    "import logging\n",
    "import threading\n",
    "import time\n",
    "\n",
    "import ophyd\n",
    "import bluesky\n",
    "import bluesky.plans\n",
    "import databroker\n",
    "\n",
    "logger = logging.getLogger()\n",
    "RE = bluesky.RunEngine({})\n",
    "db = databroker.Broker.from_config(databroker.temp_config())\n",
    "RE.subscribe(db.insert)"
   ]
  },
  {
   "cell_type": "code",
   "execution_count": 2,
   "metadata": {
    "collapsed": true
   },
   "outputs": [],
   "source": [
    "BUSY_PV = 'prj:mybusy'\n",
    "TIME_WAVE_PV = 'prj:t_array'\n",
    "X_WAVE_PV = 'prj:x_array'\n",
    "Y_WAVE_PV = 'prj:y_array'"
   ]
  },
  {
   "cell_type": "code",
   "execution_count": 3,
   "metadata": {
    "collapsed": true
   },
   "outputs": [],
   "source": [
    "class BusyStatus(str, enum.Enum):\n",
    "    busy = \"Busy\"\n",
    "    done = \"Done\"\n",
    "\n",
    "class MyWaveform(ophyd.Device):\n",
    "    \"\"\"waveform records store fly scan data\"\"\"\n",
    "    wave = ophyd.Component(ophyd.EpicsSignalRO, \"\")\n",
    "    number_elements = ophyd.Component(ophyd.EpicsSignalRO, \".NELM\")\n",
    "    number_read = ophyd.Component(ophyd.EpicsSignalRO, \".NORD\")"
   ]
  },
  {
   "cell_type": "code",
   "execution_count": 4,
   "metadata": {},
   "outputs": [],
   "source": [
    "class BusyFlyerDevice(ophyd.Device):\n",
    "    \"\"\"\n",
    "    support APS Fly Scans that are operated by a busy record\n",
    "    \"\"\"\n",
    "\n",
    "    busy = ophyd.Component(ophyd.EpicsSignal, BUSY_PV, string=True)\n",
    "    time = ophyd.Component(MyWaveform, TIME_WAVE_PV)\n",
    "    axis = ophyd.Component(MyWaveform, X_WAVE_PV)\n",
    "    signal = ophyd.Component(MyWaveform, Y_WAVE_PV)\n",
    "    \n",
    "    def __init__(self, *args, **kwargs):\n",
    "        super().__init__('', parent=None, **kwargs)\n",
    "        self.complete_status = None\n",
    "        self.t0 = time.time()\n",
    "        self.waves = (self.time, self.axis, self.signal)\n",
    "\n",
    "    def kickoff(self):\n",
    "        \"\"\"\n",
    "        Start this Flyer\n",
    "        \"\"\"\n",
    "        logger.info(\"kickoff()\")\n",
    "        self.complete_status = ophyd.DeviceStatus(self.busy)\n",
    "        \n",
    "        def cb(*args, **kwargs):\n",
    "            if self.busy.value in (BusyStatus.done):\n",
    "                self.complete_status._finished(success=True)\n",
    "        \n",
    "        self.t0 = time.time()\n",
    "        self.busy.put(BusyStatus.busy)\n",
    "        self.busy.subscribe(cb)\n",
    "\n",
    "        kickoff_status = ophyd.DeviceStatus(self)\n",
    "        kickoff_status._finished(success=True)\n",
    "        return kickoff_status\n",
    "\n",
    "    def complete(self):\n",
    "        \"\"\"\n",
    "        Wait for flying to be complete\n",
    "        \"\"\"\n",
    "        logger.info(\"complete(): \" + str(self.complete_status))\n",
    "        return self.complete_status\n",
    "\n",
    "    def describe_collect(self):\n",
    "        \"\"\"\n",
    "        Describe details for ``collect()`` method\n",
    "        \"\"\"\n",
    "        logger.info(\"describe_collect()\")\n",
    "        schema = {}\n",
    "        for item in self.waves:\n",
    "            structure = dict(\n",
    "                source = item.wave.pvname,\n",
    "                dtype = \"number\",\n",
    "                shape = (1,)\n",
    "            )\n",
    "            schema[item.name] = structure\n",
    "        return {self.name: schema}\n",
    "\n",
    "    def collect(self):\n",
    "        \"\"\"\n",
    "        Start this Flyer\n",
    "        \"\"\"\n",
    "        logger.info(\"collect(): \" + str(self.complete_status))\n",
    "        self.complete_status = None\n",
    "        for i in range(int(self.time.number_read.value)):\n",
    "            data = {}\n",
    "            timestamps = {}\n",
    "            t = time.time()\n",
    "            for item in self.waves:\n",
    "                data[item.name] = item.wave.value[i]\n",
    "                timestamps[item.name] = t\n",
    "            data[self.time.name] -= self.t0  # demo: offset time (removes large offset)\n",
    "            d = dict(\n",
    "                time=time.time(),\n",
    "                data=data,\n",
    "                timestamps=timestamps\n",
    "            )\n",
    "            yield d"
   ]
  },
  {
   "cell_type": "code",
   "execution_count": 5,
   "metadata": {},
   "outputs": [],
   "source": [
    "bflyer = BusyFlyerDevice(name=\"bflyer\")"
   ]
  },
  {
   "cell_type": "code",
   "execution_count": 6,
   "metadata": {},
   "outputs": [],
   "source": [
    "status = bflyer.complete()\n",
    "status"
   ]
  },
  {
   "cell_type": "code",
   "execution_count": 7,
   "metadata": {},
   "outputs": [
    {
     "data": {
      "text/plain": [
       "[{'data': {'bflyer_motor': -1.23,\n",
       "   'bflyer_signal': 0.26497291523613337,\n",
       "   'bflyer_time': -50.025498151779175},\n",
       "  'time': 1524924443.0733483,\n",
       "  'timestamps': {'bflyer_motor': 1524924443.0712774,\n",
       "   'bflyer_signal': 1524924443.0712774,\n",
       "   'bflyer_time': 1524924443.0712774}},\n",
       " {'data': {'bflyer_motor': 0.87,\n",
       "   'bflyer_signal': 0.38968490119783322,\n",
       "   'bflyer_time': -47.618832349777222},\n",
       "  'time': 1524924443.0768585,\n",
       "  'timestamps': {'bflyer_motor': 1524924443.0733533,\n",
       "   'bflyer_signal': 1524924443.0733533,\n",
       "   'bflyer_time': 1524924443.0733533}},\n",
       " {'data': {'bflyer_motor': 2.9700000000000002,\n",
       "   'bflyer_signal': 0.57024490730144195,\n",
       "   'bflyer_time': -45.210754156112671},\n",
       "  'time': 1524924443.0775073,\n",
       "  'timestamps': {'bflyer_motor': 1524924443.076861,\n",
       "   'bflyer_signal': 1524924443.076861,\n",
       "   'bflyer_time': 1524924443.076861}},\n",
       " {'data': {'bflyer_motor': 5.0700000000000003,\n",
       "   'bflyer_signal': 0.3645075150682841,\n",
       "   'bflyer_time': -42.802080154418945},\n",
       "  'time': 1524924443.080592,\n",
       "  'timestamps': {'bflyer_motor': 1524924443.0775094,\n",
       "   'bflyer_signal': 1524924443.0775094,\n",
       "   'bflyer_time': 1524924443.0775094}},\n",
       " {'data': {'bflyer_motor': 7.1699999999999999,\n",
       "   'bflyer_signal': 0.9739070725566491,\n",
       "   'bflyer_time': -40.397822141647339},\n",
       "  'time': 1524924443.0839083,\n",
       "  'timestamps': {'bflyer_motor': 1524924443.080594,\n",
       "   'bflyer_signal': 1524924443.080594,\n",
       "   'bflyer_time': 1524924443.080594}}]"
      ]
     },
     "execution_count": 7,
     "metadata": {},
     "output_type": "execute_result"
    }
   ],
   "source": [
    "list(bflyer.collect())"
   ]
  },
  {
   "cell_type": "code",
   "execution_count": 8,
   "metadata": {},
   "outputs": [],
   "source": [
    "import bluesky.utils\n",
    "RE.msg_hook = bluesky.utils.ts_msg_hook\n",
    "logging.basicConfig(\n",
    "    # level=logging.INFO, \n",
    "    level=logging.DEBUG, \n",
    "    format='%(asctime)s.%(msecs)03d %(levelname)s %(message)s',\n",
    "    datefmt='%M:%S',\n",
    "    # datefmt='%Y-%m-%d %H:%M:%S',\n",
    "    ) "
   ]
  },
  {
   "cell_type": "code",
   "execution_count": 9,
   "metadata": {},
   "outputs": [
    {
     "name": "stderr",
     "output_type": "stream",
     "text": [
      "07:23.161 DEBUG Inserted RunStart with uid 41914ce0-348b-4d17-859b-36d56a0e461f\n",
      "07:23.169 INFO kickoff()\n",
      "07:23.184 INFO complete(): DeviceStatus(device=bflyer_busy, done=False, success=False)\n"
     ]
    },
    {
     "name": "stdout",
     "output_type": "stream",
     "text": [
      "09:07:23.141797 open_run          -> None            args: (), kwargs: {}\n",
      "09:07:23.169475 kickoff           -> bflyer          args: (), kwargs: {'group': None}\n",
      "09:07:23.183876 wait              -> None            args: (), kwargs: {'group': None}\n",
      "09:07:23.184406 complete          -> bflyer          args: (), kwargs: {'group': None}\n",
      "09:07:23.191331 wait              -> None            args: (), kwargs: {'group': None}\n"
     ]
    },
    {
     "name": "stderr",
     "output_type": "stream",
     "text": [
      "07:41.526 INFO describe_collect()\n",
      "07:41.552 DEBUG Inserted EventDescriptor with uid 04114435-72a9-46a4-936e-5ae0f4f9cfe4 referencing RunStart with uid 41914ce0-348b-4d17-859b-36d56a0e461f\n",
      "07:41.553 INFO collect(): DeviceStatus(device=bflyer_busy, done=True, success=True)\n",
      "07:41.580 DEBUG Inserted RunStop with uid 797d10e4-f9c8-4f0e-bb84-9b6ab9e6d617 referencing RunStart  with uid 41914ce0-348b-4d17-859b-36d56a0e461f\n"
     ]
    },
    {
     "name": "stdout",
     "output_type": "stream",
     "text": [
      "09:07:41.526549 collect           -> bflyer          args: (), kwargs: {'stream': False}\n",
      "09:07:41.575457 close_run         -> None            args: (), kwargs: {'exit_status': None, 'reason': None}\n"
     ]
    },
    {
     "data": {
      "text/plain": [
       "('41914ce0-348b-4d17-859b-36d56a0e461f',)"
      ]
     },
     "execution_count": 9,
     "metadata": {},
     "output_type": "execute_result"
    }
   ],
   "source": [
    "RE(bluesky.plans.fly([bflyer]))"
   ]
  },
  {
   "cell_type": "code",
   "execution_count": 10,
   "metadata": {},
   "outputs": [],
   "source": [
    "# RE.abort()"
   ]
  },
  {
   "cell_type": "code",
   "execution_count": 11,
   "metadata": {},
   "outputs": [
    {
     "name": "stderr",
     "output_type": "stream",
     "text": [
      "07:41.614 INFO Interpreting key = -1 as an integer\n"
     ]
    },
    {
     "data": {
      "text/html": [
       "<div>\n",
       "<table border=\"1\" class=\"dataframe\">\n",
       "  <thead>\n",
       "    <tr style=\"text-align: right;\">\n",
       "      <th></th>\n",
       "      <th>time</th>\n",
       "      <th>bflyer_time</th>\n",
       "      <th>bflyer_motor</th>\n",
       "      <th>bflyer_signal</th>\n",
       "    </tr>\n",
       "    <tr>\n",
       "      <th>seq_num</th>\n",
       "      <th></th>\n",
       "      <th></th>\n",
       "      <th></th>\n",
       "      <th></th>\n",
       "    </tr>\n",
       "  </thead>\n",
       "  <tbody>\n",
       "    <tr>\n",
       "      <th>1</th>\n",
       "      <td>2018-04-28 10:07:41.556936</td>\n",
       "      <td>8.732247</td>\n",
       "      <td>-1.23</td>\n",
       "      <td>0.169162</td>\n",
       "    </tr>\n",
       "    <tr>\n",
       "      <th>2</th>\n",
       "      <td>2018-04-28 10:07:41.558871</td>\n",
       "      <td>11.136882</td>\n",
       "      <td>0.87</td>\n",
       "      <td>0.169162</td>\n",
       "    </tr>\n",
       "    <tr>\n",
       "      <th>3</th>\n",
       "      <td>2018-04-28 10:07:41.561022</td>\n",
       "      <td>13.542901</td>\n",
       "      <td>2.97</td>\n",
       "      <td>0.692332</td>\n",
       "    </tr>\n",
       "    <tr>\n",
       "      <th>4</th>\n",
       "      <td>2018-04-28 10:07:41.562117</td>\n",
       "      <td>15.947986</td>\n",
       "      <td>5.07</td>\n",
       "      <td>0.521691</td>\n",
       "    </tr>\n",
       "    <tr>\n",
       "      <th>5</th>\n",
       "      <td>2018-04-28 10:07:41.564145</td>\n",
       "      <td>18.353042</td>\n",
       "      <td>7.17</td>\n",
       "      <td>0.932052</td>\n",
       "    </tr>\n",
       "  </tbody>\n",
       "</table>\n",
       "</div>"
      ],
      "text/plain": [
       "                              time  bflyer_time  bflyer_motor  bflyer_signal\n",
       "seq_num                                                                     \n",
       "1       2018-04-28 10:07:41.556936     8.732247         -1.23       0.169162\n",
       "2       2018-04-28 10:07:41.558871    11.136882          0.87       0.169162\n",
       "3       2018-04-28 10:07:41.561022    13.542901          2.97       0.692332\n",
       "4       2018-04-28 10:07:41.562117    15.947986          5.07       0.521691\n",
       "5       2018-04-28 10:07:41.564145    18.353042          7.17       0.932052"
      ]
     },
     "execution_count": 11,
     "metadata": {},
     "output_type": "execute_result"
    }
   ],
   "source": [
    "h = db[-1]\n",
    "h.table(\"bflyer\")"
   ]
  }
 ],
 "metadata": {
  "kernelspec": {
   "display_name": "Python 3",
   "language": "python",
   "name": "python3"
  },
  "language_info": {
   "codemirror_mode": {
    "name": "ipython",
    "version": 3
   },
   "file_extension": ".py",
   "mimetype": "text/x-python",
   "name": "python",
   "nbconvert_exporter": "python",
   "pygments_lexer": "ipython3",
   "version": "3.6.3"
  }
 },
 "nbformat": 4,
 "nbformat_minor": 2
}
