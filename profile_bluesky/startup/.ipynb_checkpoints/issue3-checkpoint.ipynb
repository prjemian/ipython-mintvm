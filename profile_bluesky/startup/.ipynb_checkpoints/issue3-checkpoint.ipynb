{
 "cells": [
  {
   "cell_type": "markdown",
   "metadata": {},
   "source": [
    "# the `BusyFlyerMixin`"
   ]
  },
  {
   "cell_type": "code",
   "execution_count": 1,
   "metadata": {},
   "outputs": [
    {
     "data": {
      "text/plain": [
       "0"
      ]
     },
     "execution_count": 1,
     "metadata": {},
     "output_type": "execute_result"
    }
   ],
   "source": [
    "import enum\n",
    "import logging\n",
    "import threading\n",
    "import time\n",
    "\n",
    "import ophyd\n",
    "import bluesky\n",
    "import bluesky.plans\n",
    "import databroker\n",
    "\n",
    "logger = logging.getLogger()\n",
    "RE = bluesky.RunEngine({})\n",
    "db = databroker.Broker.from_config(databroker.temp_config())\n",
    "RE.subscribe(db.insert)"
   ]
  },
  {
   "cell_type": "code",
   "execution_count": 2,
   "metadata": {
    "collapsed": true
   },
   "outputs": [],
   "source": [
    "BUSY_PV = 'prj:mybusy'\n",
    "TIME_WAVE_PV = 'prj:t_array'\n",
    "X_WAVE_PV = 'prj:x_array'\n",
    "Y_WAVE_PV = 'prj:y_array'"
   ]
  },
  {
   "cell_type": "code",
   "execution_count": 3,
   "metadata": {
    "collapsed": true
   },
   "outputs": [],
   "source": [
    "class BusyStatus(str, enum.Enum):\n",
    "    busy = \"Busy\"\n",
    "    done = \"Done\"\n",
    "\n",
    "class MyWaveform(ophyd.Device):\n",
    "    \"\"\"waveform records store fly scan data\"\"\"\n",
    "    wave = ophyd.Component(ophyd.EpicsSignalRO, \"\")\n",
    "    number_elements = ophyd.Component(ophyd.EpicsSignalRO, \".NELM\")\n",
    "    number_read = ophyd.Component(ophyd.EpicsSignalRO, \".NORD\")"
   ]
  },
  {
   "cell_type": "code",
   "execution_count": 45,
   "metadata": {},
   "outputs": [],
   "source": [
    "class BusyFlyerDevice(ophyd.Device):\n",
    "    \"\"\"\n",
    "    support APS Fly Scans that are operated by a busy record\n",
    "    \"\"\"\n",
    "\n",
    "    busy = ophyd.Component(ophyd.EpicsSignal, BUSY_PV)\n",
    "    time = ophyd.Component(MyWaveform, TIME_WAVE_PV)\n",
    "    motor = ophyd.Component(MyWaveform, X_WAVE_PV)\n",
    "    signal = ophyd.Component(MyWaveform, Y_WAVE_PV)\n",
    "\n",
    "    def kickoff(self):\n",
    "        \"\"\"\n",
    "        Start this Flyer\n",
    "        \"\"\"\n",
    "        logger.info(\"kickoff()\")\n",
    "        self._completion_status = ophyd.DeviceStatus(self)\n",
    "        \n",
    "        self.hook_kickoff()\n",
    "\n",
    "        kickoff_status = ophyd.DeviceStatus(self)\n",
    "        kickoff_status._finished(success=True)\n",
    "        return kickoff_status\n",
    "\n",
    "    def hook_kickoff(self):\n",
    "        def cb(value, old_value, **kwargs):\n",
    "            if self.busy.value in (BusyStatus.done):\n",
    "                self._completion_status._finished(success=True)\n",
    "        self.busy.subscribe(cb)\n",
    "        \n",
    "        self.t0 = time.time()\n",
    "        self.busy.put(BusyStatus.busy)\n",
    "\n",
    "    def complete(self):\n",
    "        \"\"\"\n",
    "        Wait for flying to be complete\n",
    "        \"\"\"\n",
    "        logger.info(\"complete()\" + str(self._completion_status))\n",
    "        return self._completion_status\n",
    "\n",
    "    def describe_collect(self):\n",
    "        \"\"\"\n",
    "        Describe details for ``collect()`` method\n",
    "        \"\"\"\n",
    "        logger.info(\"describe_collect()\")\n",
    "        return {self.name, self.hook_describe_collect()}\n",
    "\n",
    "    def hook_describe_collect(self):\n",
    "        schema = {}\n",
    "        for item in (self.time, self.motor, self.signal):\n",
    "            structure = dict(\n",
    "                source = item.wave.pvname,\n",
    "                dtype = \"number\",\n",
    "                shape = (1,)\n",
    "            )\n",
    "            schema[item.name] = structure\n",
    "            \n",
    "        return {self.name: schema}\n",
    "\n",
    "    def collect(self):\n",
    "        \"\"\"\n",
    "        Start this Flyer\n",
    "        \"\"\"\n",
    "        logger.info(\"collect()\")\n",
    "        self._completion_status = None\n",
    "        for i in range(int(self.time.number_read.value)):\n",
    "            data = {}\n",
    "            timestamps = {}\n",
    "            t = time.time()\n",
    "            for item in (self.time, self.motor, self.signal):\n",
    "                data[item.name] = item.wave.value[i]\n",
    "                timestamps[item.name] = t\n",
    "            d = dict(\n",
    "                time=time.time(),\n",
    "                data=data,\n",
    "                timestamps=timestamps\n",
    "            )\n",
    "            yield d\n"
   ]
  },
  {
   "cell_type": "code",
   "execution_count": 46,
   "metadata": {},
   "outputs": [],
   "source": [
    "bflyer = BusyFlyerDevice(name=\"bflyer\")"
   ]
  },
  {
   "cell_type": "code",
   "execution_count": 48,
   "metadata": {},
   "outputs": [],
   "source": [
    "status = bflyer.complete()\n",
    "status"
   ]
  },
  {
   "cell_type": "code",
   "execution_count": 51,
   "metadata": {},
   "outputs": [
    {
     "data": {
      "text/plain": [
       "{'bflyer': {'bflyer_motor': {'dtype': 'number',\n",
       "   'shape': (1,),\n",
       "   'source': 'prj:x_array'},\n",
       "  'bflyer_signal': {'dtype': 'number', 'shape': (1,), 'source': 'prj:y_array'},\n",
       "  'bflyer_time': {'dtype': 'number', 'shape': (1,), 'source': 'prj:t_array'}}}"
      ]
     },
     "execution_count": 51,
     "metadata": {},
     "output_type": "execute_result"
    }
   ],
   "source": [
    "bflyer.hook_describe_collect()"
   ]
  },
  {
   "cell_type": "code",
   "execution_count": 52,
   "metadata": {},
   "outputs": [
    {
     "data": {
      "text/plain": [
       "[{'data': {'bflyer_motor': -1.23,\n",
       "   'bflyer_signal': 0.17875944151979858,\n",
       "   'bflyer_time': 1524864080.078151},\n",
       "  'time': 1524864559.0636227,\n",
       "  'timestamps': {'bflyer_motor': 1524864559.0604763,\n",
       "   'bflyer_signal': 1524864559.0604763,\n",
       "   'bflyer_time': 1524864559.0604763}},\n",
       " {'data': {'bflyer_motor': 0.87,\n",
       "   'bflyer_signal': 0.2264438849469749,\n",
       "   'bflyer_time': 1524864082.484061},\n",
       "  'time': 1524864559.0656397,\n",
       "  'timestamps': {'bflyer_motor': 1524864559.0636249,\n",
       "   'bflyer_signal': 1524864559.0636249,\n",
       "   'bflyer_time': 1524864559.0636249}},\n",
       " {'data': {'bflyer_motor': 2.9700000000000002,\n",
       "   'bflyer_signal': 0.32558175020981156,\n",
       "   'bflyer_time': 1524864084.8914571},\n",
       "  'time': 1524864559.066207,\n",
       "  'timestamps': {'bflyer_motor': 1524864559.0656416,\n",
       "   'bflyer_signal': 1524864559.0656416,\n",
       "   'bflyer_time': 1524864559.0656416}},\n",
       " {'data': {'bflyer_motor': 5.0700000000000003,\n",
       "   'bflyer_signal': 0.30160982681010146,\n",
       "   'bflyer_time': 1524864087.297869},\n",
       "  'time': 1524864559.0676281,\n",
       "  'timestamps': {'bflyer_motor': 1524864559.0662088,\n",
       "   'bflyer_signal': 1524864559.0662088,\n",
       "   'bflyer_time': 1524864559.0662088}},\n",
       " {'data': {'bflyer_motor': 7.1699999999999999,\n",
       "   'bflyer_signal': 0.5532158388647288,\n",
       "   'bflyer_time': 1524864089.7043099},\n",
       "  'time': 1524864559.0703666,\n",
       "  'timestamps': {'bflyer_motor': 1524864559.0676298,\n",
       "   'bflyer_signal': 1524864559.0676298,\n",
       "   'bflyer_time': 1524864559.0676298}}]"
      ]
     },
     "execution_count": 52,
     "metadata": {},
     "output_type": "execute_result"
    }
   ],
   "source": [
    "list(bflyer.collect())"
   ]
  },
  {
   "cell_type": "code",
   "execution_count": 53,
   "metadata": {},
   "outputs": [
    {
     "name": "stdout",
     "output_type": "stream",
     "text": [
      "A 'deferred pause' has been requested. The RunEngine will pause at the next checkpoint. To pause immediately, hit Ctrl+C again in the next 10 seconds.\n",
      "Deferred pause acknowledged. Continuing to checkpoint.\n",
      "Pausing...\n"
     ]
    },
    {
     "ename": "RunEngineInterrupted",
     "evalue": "\nYour RunEngine is entering a paused state. These are your options for changing\nthe state of the RunEngine:\n\nRE.resume()    Resume the plan.\nRE.abort()     Perform cleanup, then kill plan. Mark exit_stats='aborted'.\nRE.stop()      Perform cleanup, then kill plan. Mark exit_status='success'.\nRE.halt()      Emergency Stop: Do not perform cleanup --- just stop.\n",
     "output_type": "error",
     "traceback": [
      "\u001b[0;31m---------------------------------------------------------------------------\u001b[0m",
      "\u001b[0;31mRunEngineInterrupted\u001b[0m                      Traceback (most recent call last)",
      "\u001b[0;32m<ipython-input-53-1d171e06fb0e>\u001b[0m in \u001b[0;36m<module>\u001b[0;34m()\u001b[0m\n\u001b[0;32m----> 1\u001b[0;31m \u001b[0mRE\u001b[0m\u001b[0;34m(\u001b[0m\u001b[0mbluesky\u001b[0m\u001b[0;34m.\u001b[0m\u001b[0mplans\u001b[0m\u001b[0;34m.\u001b[0m\u001b[0mfly\u001b[0m\u001b[0;34m(\u001b[0m\u001b[0;34m[\u001b[0m\u001b[0mbflyer\u001b[0m\u001b[0;34m]\u001b[0m\u001b[0;34m)\u001b[0m\u001b[0;34m)\u001b[0m\u001b[0;34m\u001b[0m\u001b[0m\n\u001b[0m",
      "\u001b[0;32m/home/mintadmin/Apps/BlueSky/lib/python3.6/site-packages/bluesky/run_engine.py\u001b[0m in \u001b[0;36m__call__\u001b[0;34m(self, *args, **metadata_kw)\u001b[0m\n\u001b[1;32m    670\u001b[0m \u001b[0;34m\u001b[0m\u001b[0m\n\u001b[1;32m    671\u001b[0m             \u001b[0;32mif\u001b[0m \u001b[0mself\u001b[0m\u001b[0;34m.\u001b[0m\u001b[0m_interrupted\u001b[0m\u001b[0;34m:\u001b[0m\u001b[0;34m\u001b[0m\u001b[0m\n\u001b[0;32m--> 672\u001b[0;31m                 \u001b[0;32mraise\u001b[0m \u001b[0mRunEngineInterrupted\u001b[0m\u001b[0;34m(\u001b[0m\u001b[0mself\u001b[0m\u001b[0;34m.\u001b[0m\u001b[0mpause_msg\u001b[0m\u001b[0;34m)\u001b[0m \u001b[0;32mfrom\u001b[0m \u001b[0;32mNone\u001b[0m\u001b[0;34m\u001b[0m\u001b[0m\n\u001b[0m\u001b[1;32m    673\u001b[0m \u001b[0;34m\u001b[0m\u001b[0m\n\u001b[1;32m    674\u001b[0m         \u001b[0;32mreturn\u001b[0m \u001b[0mtuple\u001b[0m\u001b[0;34m(\u001b[0m\u001b[0mself\u001b[0m\u001b[0;34m.\u001b[0m\u001b[0m_run_start_uids\u001b[0m\u001b[0;34m)\u001b[0m\u001b[0;34m\u001b[0m\u001b[0m\n",
      "\u001b[0;31mRunEngineInterrupted\u001b[0m: \nYour RunEngine is entering a paused state. These are your options for changing\nthe state of the RunEngine:\n\nRE.resume()    Resume the plan.\nRE.abort()     Perform cleanup, then kill plan. Mark exit_stats='aborted'.\nRE.stop()      Perform cleanup, then kill plan. Mark exit_status='success'.\nRE.halt()      Emergency Stop: Do not perform cleanup --- just stop.\n"
     ]
    }
   ],
   "source": [
    "RE(bluesky.plans.fly([bflyer]))"
   ]
  },
  {
   "cell_type": "code",
   "execution_count": 54,
   "metadata": {},
   "outputs": [
    {
     "name": "stdout",
     "output_type": "stream",
     "text": [
      "Aborting: running cleanup and marking exit_status as 'abort'...\n"
     ]
    },
    {
     "data": {
      "text/plain": [
       "['c9ea556f-35f7-4fb5-9130-3671aa427982']"
      ]
     },
     "execution_count": 54,
     "metadata": {},
     "output_type": "execute_result"
    }
   ],
   "source": [
    "RE.abort()"
   ]
  },
  {
   "cell_type": "code",
   "execution_count": 55,
   "metadata": {},
   "outputs": [
    {
     "data": {
      "text/html": [
       "<div>\n",
       "<table border=\"1\" class=\"dataframe\">\n",
       "  <thead>\n",
       "    <tr style=\"text-align: right;\">\n",
       "      <th></th>\n",
       "    </tr>\n",
       "    <tr>\n",
       "      <th>seq_num</th>\n",
       "    </tr>\n",
       "  </thead>\n",
       "  <tbody>\n",
       "  </tbody>\n",
       "</table>\n",
       "</div>"
      ],
      "text/plain": [
       "Empty DataFrame\n",
       "Columns: []\n",
       "Index: []"
      ]
     },
     "execution_count": 55,
     "metadata": {},
     "output_type": "execute_result"
    }
   ],
   "source": [
    "h = db[-1]\n",
    "h.table(\"bflyer\")"
   ]
  }
 ],
 "metadata": {
  "kernelspec": {
   "display_name": "Python 3",
   "language": "python",
   "name": "python3"
  },
  "language_info": {
   "codemirror_mode": {
    "name": "ipython",
    "version": 3
   },
   "file_extension": ".py",
   "mimetype": "text/x-python",
   "name": "python",
   "nbconvert_exporter": "python",
   "pygments_lexer": "ipython3",
   "version": "3.6.3"
  }
 },
 "nbformat": 4,
 "nbformat_minor": 2
}
