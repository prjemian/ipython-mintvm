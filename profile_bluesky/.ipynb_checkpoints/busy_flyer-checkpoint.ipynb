{
 "cells": [
  {
   "cell_type": "markdown",
   "metadata": {},
   "source": [
    "# BlueSky Flyer that uses the synApps busy record\n",
    "\n",
    "## Python imports and definitions"
   ]
  },
  {
   "cell_type": "code",
   "execution_count": 1,
   "metadata": {
    "collapsed": true
   },
   "outputs": [],
   "source": [
    "from enum import Enum\n",
    "import logging\n",
    "import threading\n",
    "import time\n",
    "\n",
    "from ophyd import Component, Device, DeviceStatus\n",
    "from ophyd import EpicsSignal, EpicsSignalRO, EpicsSignalWithRBV\n",
    "\n",
    "from bluesky import RunEngine\n",
    "import bluesky.plans as bp\n",
    "\n",
    "RE = RunEngine({})\n",
    "logger = logging.getLogger()"
   ]
  },
  {
   "cell_type": "markdown",
   "metadata": {},
   "source": [
    "## EPICS PV names\n",
    "\n",
    "These are the EPICS PV names we'll be using for the demo"
   ]
  },
  {
   "cell_type": "code",
   "execution_count": 2,
   "metadata": {
    "collapsed": true
   },
   "outputs": [],
   "source": [
    "BUSY_PV = 'prj:mybusy'\n",
    "TIME_WAVE_PV = 'prj:t_array'\n",
    "X_WAVE_PV = 'prj:x_array'\n",
    "Y_WAVE_PV = 'prj:y_array'"
   ]
  },
  {
   "cell_type": "markdown",
   "metadata": {},
   "source": [
    "## External pseudo-controller for fly scan"
   ]
  },
  {
   "cell_type": "markdown",
   "metadata": {},
   "source": [
    "We'll need something that responds to the EPICS PV that signals a fly scan should be started.  It should operate the fly scan and store the collected data in EPICS PVs, then signal EPICS that the fly scan is complete.  BlueSky will observe that the fly scan is complete and collect the data from EPICS.\n",
    "\n",
    "A Python program has been built to act as the pseudo-controller.  It step scans a soft [motor](https://github.com/epics-modules/motor) record and reads from an [swait](https://github.com/epics-modules/calc) record that has been configure to generate random numbers.\n",
    "\n",
    "The [pseudo-controller](https://github.com/prjemian/ipython_mintvm/blob/master/profile_bluesky/startup/local_code/busyExample.py) *and associated EPICS IOC* should be started outside of this jupyter notebook.  Since the interface is completely through EPICS PVs, it is not necessary for either the IOC or the pseudo-controller to be running on the some computer as the jupyter notebook."
   ]
  },
  {
   "cell_type": "markdown",
   "metadata": {},
   "source": [
    "## Devices and support\n",
    "\n",
    "Define some ophyd Devices we'll use and support routines for them.\n",
    "\n",
    "### synApps busy record\n",
    "\n",
    "The synApps [busy](https://github.com/epics-modules/busy) record is a variation of a 0,1 (bit).  It is an integer that starts at zero.  *Busy* is set to one at the start of operations.  This triggers execution of one or more operations that must complete before *busy* is set back to zero.  Each new operation increments *busy* at its start, then decrements *busy* when it is done."
   ]
  },
  {
   "cell_type": "code",
   "execution_count": 3,
   "metadata": {
    "collapsed": true
   },
   "outputs": [],
   "source": [
    "class BusyRecord(Device):\n",
    "    \"\"\"a busy record sets the fly scan into action\"\"\"\n",
    "    state = Component(EpicsSignal, \"\", string=True)\n",
    "    output_link = Component(EpicsSignal, \".OUT\")\n",
    "    forward_link = Component(EpicsSignal, \".FLNK\")"
   ]
  },
  {
   "cell_type": "markdown",
   "metadata": {},
   "source": [
    "It is useful to define the state values (strings) so that clients have no ambiguity in spelling and error checking.\n",
    "\n",
    "use this | instead of\n",
    "---- | ----\n",
    "`BusyStatus.busy` | `\"Busy\"`\n",
    "`BusyStatus.done` | `\"Done\"`"
   ]
  },
  {
   "cell_type": "code",
   "execution_count": 4,
   "metadata": {
    "collapsed": true
   },
   "outputs": [],
   "source": [
    "class BusyStatus(str, Enum):\n",
    "    busy = \"Busy\"\n",
    "    done = \"Done\""
   ]
  },
  {
   "cell_type": "markdown",
   "metadata": {},
   "source": [
    "We'll need a couple items from the [waveform](https://wiki-ext.aps.anl.gov/epics/index.php/RRM_3-14_Waveform) record.  Let's use a custom Device for just what we need here."
   ]
  },
  {
   "cell_type": "code",
   "execution_count": 5,
   "metadata": {
    "collapsed": true
   },
   "outputs": [],
   "source": [
    "class MyWaveform(Device):\n",
    "    \"\"\"waveform records store fly scan data\"\"\"\n",
    "    wave = Component(EpicsSignalRO, \"\")\n",
    "    number_elements = Component(EpicsSignalRO, \".NELM\")\n",
    "    number_read = Component(EpicsSignalRO, \".NORD\")"
   ]
  },
  {
   "cell_type": "code",
   "execution_count": 30,
   "metadata": {
    "collapsed": true
   },
   "outputs": [],
   "source": [
    "## basic outline of a Flyer\n",
    "\n",
    "#  (We are not yet using the pseudo-controller.  That comes later.)"
   ]
  },
  {
   "cell_type": "code",
   "execution_count": 14,
   "metadata": {
    "collapsed": true
   },
   "outputs": [],
   "source": [
    "class MyFlyer(Device):\n",
    "    \"\"\"\n",
    "    build a Flyer that we understand\n",
    "    \"\"\"\n",
    "\n",
    "    xArr = Component(MyWaveform, 'prj:x_array')\n",
    "    # yArr = Component(MyWaveform, 'prj:y_array')\n",
    "\n",
    "    def __init__(self, *args, **kwargs):\n",
    "        super().__init__('', parent=None, **kwargs)\n",
    "        self._completion_status = None\n",
    "\n",
    "    def my_activity(self):\n",
    "        \"\"\"\n",
    "        start the \"fly scan\" here, could wait for completion\n",
    "        \n",
    "        It's OK to use blocking calls here \n",
    "        since this is called in a separate thread\n",
    "        from the BlueSky RunEngine.\n",
    "        \"\"\"\n",
    "        logger.info(\"activity()\")\n",
    "        if self._completion_status is None:\n",
    "            logger.info(\"leaving activity() - not complete\")\n",
    "            return\n",
    "        \n",
    "        # TODO: do the activity here\n",
    "        # TODO: wait for completion\n",
    "        \n",
    "        self._completion_status._finished(success=True)\n",
    "        logger.info(\"activity() complete. status = \" + str(self._completion_status))\n",
    "\n",
    "    def kickoff(self):\n",
    "        \"\"\"\n",
    "        Start this Flyer\n",
    "        \"\"\"\n",
    "        logger.info(\"kickoff()\")\n",
    "        self._completion_status = DeviceStatus(self)\n",
    "        \n",
    "        thread = threading.Thread(target=self.my_activity, daemon=True)\n",
    "        thread.start()\n",
    "\n",
    "        return self._completion_status\n",
    "\n",
    "    def complete(self):\n",
    "        \"\"\"\n",
    "        Wait for flying to be complete\n",
    "        \"\"\"\n",
    "        logger.info(\"complete()\")\n",
    "        if self._completion_status is None:\n",
    "            raise RuntimeError(\"No collection in progress\")\n",
    "\n",
    "        st = DeviceStatus(self)\n",
    "        st._finished(success=True)\n",
    "        return st\n",
    "\n",
    "    def describe_collect(self):\n",
    "        \"\"\"\n",
    "        Describe details for ``collect()`` method\n",
    "        \"\"\"\n",
    "        logger.info(\"describe_collect()\")\n",
    "        return {'ifly': {}\n",
    "        }\n",
    "\n",
    "    def collect(self):\n",
    "        \"\"\"\n",
    "        Start this Flyer\n",
    "        \"\"\"\n",
    "        logger.info(\"collect()\")"
   ]
  },
  {
   "cell_type": "code",
   "execution_count": 15,
   "metadata": {
    "collapsed": true
   },
   "outputs": [],
   "source": [
    "ifly = MyFlyer(name=\"ifly\")"
   ]
  },
  {
   "cell_type": "code",
   "execution_count": 17,
   "metadata": {},
   "outputs": [
    {
     "data": {
      "text/plain": [
       "{'ifly': {}}"
      ]
     },
     "execution_count": 17,
     "metadata": {},
     "output_type": "execute_result"
    }
   ],
   "source": [
    "ifly.describe_collect()"
   ]
  },
  {
   "cell_type": "code",
   "execution_count": 18,
   "metadata": {
    "collapsed": true
   },
   "outputs": [],
   "source": [
    "ifly.collect()"
   ]
  },
  {
   "cell_type": "markdown",
   "metadata": {},
   "source": [
    "We don't expect this to work correctly since it will not collect any data.  That's next.  That's why we don't try to run it, like this:\n",
    "\n",
    "```\n",
    "RE(bp.fly([ifly]))\n",
    "```"
   ]
  },
  {
   "cell_type": "markdown",
   "metadata": {},
   "source": [
    "## First working Flyer - trivial data\n",
    "\n",
    "To collect data, we need to modify both the `collect()` *and* the `describe_collect()` methods.  BlueSky needs to know what kind of data to expect from this Flyer, so that it can generate the correct `descriptor` document.\n",
    "\n",
    "For the *most* trivial case, we'll return a single number (`1.2345`) as the result of the first working Flyer.  (Still not yet using the pseudo-controller.)\n",
    "\n",
    "In the `describe_collect()` method, we create a dictionary that describes the data to be collected:\n",
    "\n",
    "        d = dict(\n",
    "            source = \"fictional\",\n",
    "            dtype = \"number\",\n",
    "            shape = []\n",
    "        )\n",
    "        return {\n",
    "            'ifly': {\n",
    "                \"x\": d\n",
    "            }\n",
    "        }\n",
    "\n",
    "Then, in the `collect()` method, add the actual data collection code:\n",
    "\n",
    "        t = time.time()\n",
    "        d = dict(\n",
    "            time=t,\n",
    "            data=dict(x=1.2345),\n",
    "            timestamps=dict(x=t)\n",
    "        )\n",
    "        yield d\n"
   ]
  },
  {
   "cell_type": "code",
   "execution_count": 23,
   "metadata": {
    "collapsed": true
   },
   "outputs": [],
   "source": [
    "class MyFlyer(Device):\n",
    "    \"\"\"\n",
    "    build a Flyer that we understand\n",
    "    \"\"\"\n",
    "\n",
    "    xArr = Component(MyWaveform, 'prj:x_array')\n",
    "    # yArr = Component(MyWaveform, 'prj:y_array')\n",
    "\n",
    "    def __init__(self, *args, **kwargs):\n",
    "        super().__init__('', parent=None, **kwargs)\n",
    "        self._completion_status = None\n",
    "\n",
    "    def my_activity(self):\n",
    "        \"\"\"\n",
    "        start the \"fly scan\" here, could wait for completion\n",
    "        \n",
    "        It's OK to use blocking calls here \n",
    "        since this is called in a separate thread\n",
    "        from the BlueSky RunEngine.\n",
    "        \"\"\"\n",
    "        logger.info(\"activity()\")\n",
    "        if self._completion_status is None:\n",
    "            logger.info(\"leaving activity() - not complete\")\n",
    "            return\n",
    "        \n",
    "        # TODO: do the activity here\n",
    "        # TODO: wait for completion\n",
    "        \n",
    "        self._completion_status._finished(success=True)\n",
    "        logger.info(\"activity() complete. status = \" + str(self._completion_status))\n",
    "\n",
    "    def kickoff(self):\n",
    "        \"\"\"\n",
    "        Start this Flyer\n",
    "        \"\"\"\n",
    "        logger.info(\"kickoff()\")\n",
    "        self._completion_status = DeviceStatus(self)\n",
    "        \n",
    "        thread = threading.Thread(target=self.my_activity, daemon=True)\n",
    "        thread.start()\n",
    "\n",
    "        return self._completion_status\n",
    "\n",
    "    def complete(self):\n",
    "        \"\"\"\n",
    "        Wait for flying to be complete\n",
    "        \"\"\"\n",
    "        logger.info(\"complete()\")\n",
    "        if self._completion_status is None:\n",
    "            raise RuntimeError(\"No collection in progress\")\n",
    "\n",
    "        st = DeviceStatus(self)\n",
    "        st._finished(success=True)\n",
    "        return st\n",
    "\n",
    "    def describe_collect(self):\n",
    "        \"\"\"\n",
    "        Describe details for ``collect()`` method\n",
    "        \"\"\"\n",
    "        logger.info(\"describe_collect()\")\n",
    "        d = dict(\n",
    "            source = \"fictional\",\n",
    "            dtype = \"number\",\n",
    "            shape = []\n",
    "        )\n",
    "        return {\n",
    "            'ifly': {\n",
    "                \"x\": d\n",
    "            }\n",
    "        }\n",
    "\n",
    "    def collect(self):\n",
    "        \"\"\"\n",
    "        Start this Flyer\n",
    "        \"\"\"\n",
    "        logger.info(\"collect()\")\n",
    "        t = time.time()\n",
    "        d = dict(\n",
    "            time=t,\n",
    "            data=dict(x=1.2345),\n",
    "            timestamps=dict(x=t)\n",
    "        )\n",
    "        yield d"
   ]
  },
  {
   "cell_type": "markdown",
   "metadata": {},
   "source": [
    "As before, create a new instance of the *revised* `MyFlyer` class."
   ]
  },
  {
   "cell_type": "code",
   "execution_count": 32,
   "metadata": {
    "collapsed": true
   },
   "outputs": [],
   "source": [
    "ifly = MyFlyer(name=\"ifly\")"
   ]
  },
  {
   "cell_type": "code",
   "execution_count": 33,
   "metadata": {},
   "outputs": [
    {
     "name": "stdout",
     "output_type": "stream",
     "text": [
      "output from describe_collect() :  {'ifly': {'x': {'source': 'elapsed time, s', 'dtype': 'number', 'shape': (1,)}}}\n",
      "list output from collect() :  [{'time': 1524763208.3369842, 'data': {'x': 1524763208.3369842}, 'timestamps': {'x': 1524763208.3369842}}, {'time': 1524763208.3369892, 'data': {'x': 1524763208.3369892}, 'timestamps': {'x': 1524763208.3369892}}, {'time': 1524763208.3369915, 'data': {'x': 1524763208.3369915}, 'timestamps': {'x': 1524763208.3369915}}, {'time': 1524763208.3369935, 'data': {'x': 1524763208.3369935}, 'timestamps': {'x': 1524763208.3369935}}, {'time': 1524763208.3369954, 'data': {'x': 1524763208.3369954}, 'timestamps': {'x': 1524763208.3369954}}]\n"
     ]
    }
   ],
   "source": [
    "print('output from describe_collect() : ', ifly.describe_collect())\n",
    "print(\"list output from collect() : \", list(ifly.collect()))"
   ]
  },
  {
   "cell_type": "markdown",
   "metadata": {},
   "source": [
    "Running this flyer with the RunEngine seems anticlimactic in a jupyter notebook since we do not use a DataBroker, but the lack of exceptions tells us that it ran and we get a UUID at the end."
   ]
  },
  {
   "cell_type": "code",
   "execution_count": 37,
   "metadata": {},
   "outputs": [
    {
     "data": {
      "text/plain": [
       "('d918a7c0-f499-4b44-a2d7-809b6681517e',)"
      ]
     },
     "execution_count": 37,
     "metadata": {},
     "output_type": "execute_result"
    }
   ],
   "source": [
    "RE(bp.fly([ifly]))"
   ]
  },
  {
   "cell_type": "markdown",
   "metadata": {},
   "source": [
    "## Flyer that \"collects\" array data"
   ]
  },
  {
   "cell_type": "code",
   "execution_count": 39,
   "metadata": {
    "collapsed": true
   },
   "outputs": [],
   "source": [
    "# document that we generate 5 random numbers as an \"array\" for the `collect()` method.  Show what's been added."
   ]
  },
  {
   "cell_type": "code",
   "execution_count": 40,
   "metadata": {
    "collapsed": true
   },
   "outputs": [],
   "source": [
    "class MyFlyer(Device):\n",
    "    \"\"\"\n",
    "    build a Flyer that we understand\n",
    "    \"\"\"\n",
    "\n",
    "    xArr = Component(MyWaveform, 'prj:x_array')\n",
    "    # yArr = Component(MyWaveform, 'prj:y_array')\n",
    "\n",
    "    def __init__(self, *args, **kwargs):\n",
    "        super().__init__('', parent=None, **kwargs)\n",
    "        self._completion_status = None\n",
    "        self.t0 = 0\n",
    "\n",
    "    def my_activity(self):\n",
    "        \"\"\"\n",
    "        start the \"fly scan\" here, could wait for completion\n",
    "        \n",
    "        It's OK to use blocking calls here \n",
    "        since this is called in a separate thread\n",
    "        from the BlueSky RunEngine.\n",
    "        \"\"\"\n",
    "        logger.info(\"activity()\")\n",
    "        if self._completion_status is None:\n",
    "            logger.info(\"leaving activity() - not complete\")\n",
    "            return\n",
    "        \n",
    "        # TODO: do the activity here\n",
    "        # TODO: wait for completion\n",
    "        \n",
    "        self._completion_status._finished(success=True)\n",
    "        logger.info(\"activity() complete. status = \" + str(self._completion_status))\n",
    "\n",
    "    def kickoff(self):\n",
    "        \"\"\"\n",
    "        Start this Flyer\n",
    "        \"\"\"\n",
    "        logger.info(\"kickoff()\")\n",
    "        self._completion_status = DeviceStatus(self)\n",
    "        self.t0 = time.time()\n",
    "        \n",
    "        thread = threading.Thread(target=self.my_activity, daemon=True)\n",
    "        thread.start()\n",
    "\n",
    "        return self._completion_status\n",
    "\n",
    "    def complete(self):\n",
    "        \"\"\"\n",
    "        Wait for flying to be complete\n",
    "        \"\"\"\n",
    "        logger.info(\"complete()\")\n",
    "        if self._completion_status is None:\n",
    "            raise RuntimeError(\"No collection in progress\")\n",
    "\n",
    "        st = DeviceStatus(self)\n",
    "        st._finished(success=True)\n",
    "        return st\n",
    "\n",
    "    def describe_collect(self):\n",
    "        \"\"\"\n",
    "        Describe details for ``collect()`` method\n",
    "        \"\"\"\n",
    "        logger.info(\"describe_collect()\")\n",
    "        d = dict(\n",
    "            source = \"elapsed time, s\",\n",
    "            dtype = \"number\",\n",
    "            shape = (1,)\n",
    "        )\n",
    "        return {\n",
    "            'ifly': {\n",
    "                \"x\": d\n",
    "            }\n",
    "        }\n",
    "\n",
    "    def collect(self):\n",
    "        \"\"\"\n",
    "        Start this Flyer\n",
    "        \"\"\"\n",
    "        logger.info(\"collect()\")\n",
    "        for _ in range(5):\n",
    "            t = time.time()\n",
    "            x = t - self.t0 # data is elapsed time since kickoff()\n",
    "            d = dict(\n",
    "                time=t,\n",
    "                data=dict(x=x),\n",
    "                timestamps=dict(x=t)\n",
    "            )\n",
    "            yield d\n"
   ]
  },
  {
   "cell_type": "code",
   "execution_count": 35,
   "metadata": {},
   "outputs": [
    {
     "name": "stdout",
     "output_type": "stream",
     "text": [
      "output from describe_collect() :  {'ifly': {'x': {'source': 'elapsed time, s', 'dtype': 'number', 'shape': (1,)}}}\n",
      "list output from collect() :  [{'time': 1524763223.2507987, 'data': {'x': 1524763223.2507987}, 'timestamps': {'x': 1524763223.2507987}}, {'time': 1524763223.2508018, 'data': {'x': 1524763223.2508018}, 'timestamps': {'x': 1524763223.2508018}}, {'time': 1524763223.250804, 'data': {'x': 1524763223.250804}, 'timestamps': {'x': 1524763223.250804}}, {'time': 1524763223.2508059, 'data': {'x': 1524763223.2508059}, 'timestamps': {'x': 1524763223.2508059}}, {'time': 1524763223.2508078, 'data': {'x': 1524763223.2508078}, 'timestamps': {'x': 1524763223.2508078}}]\n"
     ]
    }
   ],
   "source": [
    "ifly = MyFlyer(name=\"ifly\")\n",
    "print('output from describe_collect() : ', ifly.describe_collect())\n",
    "print(\"list output from collect() : \", list(ifly.collect()))"
   ]
  },
  {
   "cell_type": "markdown",
   "metadata": {},
   "source": [
    "Again, not much information from running this flyer, except that it succeeds and a uuid is returned."
   ]
  },
  {
   "cell_type": "code",
   "execution_count": 38,
   "metadata": {},
   "outputs": [
    {
     "data": {
      "text/plain": [
       "('4798f06a-4cf7-457c-8bc8-4619909e7874',)"
      ]
     },
     "execution_count": 38,
     "metadata": {},
     "output_type": "execute_result"
    }
   ],
   "source": [
    "RE(bp.fly([ifly]))"
   ]
  },
  {
   "cell_type": "markdown",
   "metadata": {},
   "source": [
    "## Final, working Flyer"
   ]
  },
  {
   "cell_type": "code",
   "execution_count": 41,
   "metadata": {
    "collapsed": true
   },
   "outputs": [],
   "source": [
    "# document what changed to get the final code, connected with the EPICS PVs"
   ]
  },
  {
   "cell_type": "code",
   "execution_count": 6,
   "metadata": {
    "collapsed": true
   },
   "outputs": [],
   "source": [
    "class MyFlyer(Device):\n",
    "    \"\"\"\n",
    "    a basic Flyer for scans triggered by the synApps busy record\n",
    "    \"\"\"\n",
    "\n",
    "    busy = Component(BusyRecord, BUSY_PV)\n",
    "    tArr = Component(MyWaveform, TIME_WAVE_PV)\n",
    "    xArr = Component(MyWaveform, X_WAVE_PV)\n",
    "    yArr = Component(MyWaveform, Y_WAVE_PV)\n",
    "\n",
    "    def __init__(self, *args, **kwargs):\n",
    "        super().__init__('', parent=None, **kwargs)\n",
    "        self._completion_status = None\n",
    "        self.poll_sleep_interval_s = 0.05\n",
    "        self.t0 = 0\n",
    "\n",
    "    def wait_busy(self, target = None):\n",
    "        \"\"\"\n",
    "        wait for the busy record to return to the target value\n",
    "        \"\"\"\n",
    "        logger.debug(\"wait_busy()\")\n",
    "        target = target or BusyStatus.done\n",
    "\n",
    "        while self.busy.state.value not in (target):\n",
    "            time.sleep(self.poll_sleep_interval_s)  # wait to complete ...\n",
    " \n",
    "    def my_activity(self):\n",
    "        \"\"\"\n",
    "        start the \"fly scan\" here, could wait for completion\n",
    "        \n",
    "        It's OK to use blocking calls here \n",
    "        since this is called in a separate thread\n",
    "        from the BlueSky RunEngine.\n",
    "        \"\"\"\n",
    "        logger.info(\"activity()\")\n",
    "        if self._completion_status is None:\n",
    "            logger.info(\"leaving activity() - not complete\")\n",
    "            return\n",
    "        \n",
    "        # do the activity here\n",
    "        self.busy.state.put(BusyStatus.done) # make sure it's Done first\n",
    "        self.wait_busy()\n",
    "\n",
    "        # wait for completion\n",
    "        self.t0 = time.time()\n",
    "        self.busy.state.put(BusyStatus.busy)\n",
    "        self.wait_busy()\n",
    "        \n",
    "        self._completion_status._finished(success=True)\n",
    "        logger.info(\"activity() complete. status = \" + str(self._completion_status))\n",
    "\n",
    "    def kickoff(self):\n",
    "        \"\"\"\n",
    "        Start this Flyer\n",
    "        \"\"\"\n",
    "        logger.info(\"kickoff()\")\n",
    "        self._completion_status = DeviceStatus(self)\n",
    "        \n",
    "        thread = threading.Thread(target=self.my_activity, daemon=True)\n",
    "        thread.start()\n",
    "\n",
    "        return self._completion_status\n",
    "\n",
    "    def complete(self):\n",
    "        \"\"\"\n",
    "        Wait for flying to be complete\n",
    "        \"\"\"\n",
    "        logger.info(\"complete()\")\n",
    "        if self._completion_status is None:\n",
    "            raise RuntimeError(\"No collection in progress\")\n",
    "\n",
    "        st = DeviceStatus(self)\n",
    "        st._finished(success=True)\n",
    "        return st\n",
    "\n",
    "    def describe_collect(self):\n",
    "        \"\"\"\n",
    "        Describe details for ``collect()`` method\n",
    "        \"\"\"\n",
    "        logger.info(\"describe_collect()\")\n",
    "        return {\n",
    "            self.name: dict(\n",
    "                ifly_xArr = dict(\n",
    "                    source = self.xArr.wave.pvname,\n",
    "                    dtype = \"number\",\n",
    "                    shape = (1,)\n",
    "                ),\n",
    "                ifly_yArr = dict(\n",
    "                    source = self.yArr.wave.pvname,\n",
    "                    dtype = \"number\",\n",
    "                    shape = (1,)\n",
    "                ),\n",
    "                ifly_tArr = dict(\n",
    "                    source = self.tArr.wave.pvname,\n",
    "                    dtype = \"number\",\n",
    "                    shape = (1,)\n",
    "                )\n",
    "            )\n",
    "        }\n",
    "\n",
    "    def collect(self):\n",
    "        \"\"\"\n",
    "        Start this Flyer\n",
    "        \"\"\"\n",
    "        logger.info(\"collect()\")\n",
    "        for i in range(len(ifly.tArr.wave.value)):\n",
    "            t = ifly.tArr.wave.value[i]\n",
    "            x = ifly.xArr.wave.value[i]\n",
    "            y = ifly.yArr.wave.value[i]\n",
    "            d = dict(\n",
    "                time=time.time(),\n",
    "                data=dict(\n",
    "                    ifly_tArr = time.time() - self.t0,\n",
    "                    ifly_xArr = x,\n",
    "                    ifly_yArr = y,\n",
    "                ),\n",
    "                timestamps=dict(\n",
    "                    ifly_tArr = t,\n",
    "                    ifly_xArr = t,\n",
    "                    ifly_yArr = t,\n",
    "                )\n",
    "            )\n",
    "            yield d\n"
   ]
  },
  {
   "cell_type": "code",
   "execution_count": 7,
   "metadata": {},
   "outputs": [],
   "source": [
    "ifly = MyFlyer(\"prj:\", name=\"ifly\")"
   ]
  },
  {
   "cell_type": "markdown",
   "metadata": {},
   "source": [
    "verify that we connected"
   ]
  },
  {
   "cell_type": "code",
   "execution_count": 8,
   "metadata": {},
   "outputs": [
    {
     "name": "stdout",
     "output_type": "stream",
     "text": [
      "prj:mybusy Done\n"
     ]
    }
   ],
   "source": [
    "print(ifly.busy.state.pvname, ifly.busy.state.value)"
   ]
  },
  {
   "cell_type": "code",
   "execution_count": 9,
   "metadata": {},
   "outputs": [],
   "source": []
  },
  {
   "cell_type": "code",
   "execution_count": 10,
   "metadata": {},
   "outputs": [
    {
     "data": {
      "text/plain": [
       "{'ifly': {'ifly_tArr': {'dtype': 'number',\n",
       "   'shape': (1,),\n",
       "   'source': 'prj:t_array'},\n",
       "  'ifly_xArr': {'dtype': 'number', 'shape': (1,), 'source': 'prj:x_array'},\n",
       "  'ifly_yArr': {'dtype': 'number', 'shape': (1,), 'source': 'prj:y_array'}}}"
      ]
     },
     "execution_count": 10,
     "metadata": {},
     "output_type": "execute_result"
    }
   ],
   "source": [
    "ifly.describe_collect()"
   ]
  },
  {
   "cell_type": "code",
   "execution_count": 11,
   "metadata": {},
   "outputs": [
    {
     "data": {
      "text/plain": [
       "[{'data': {'ifly_tArr': 1524761237.8269324,\n",
       "   'ifly_xArr': -1.23,\n",
       "   'ifly_yArr': 0.054001678492408639},\n",
       "  'time': 1524761237.826932,\n",
       "  'timestamps': {'ifly_tArr': 1524760264.195945,\n",
       "   'ifly_xArr': 1524760264.195945,\n",
       "   'ifly_yArr': 1524760264.195945}},\n",
       " {'data': {'ifly_tArr': 1524761237.8275735,\n",
       "   'ifly_xArr': 0.87,\n",
       "   'ifly_yArr': 0.97572289616235597},\n",
       "  'time': 1524761237.8275733,\n",
       "  'timestamps': {'ifly_tArr': 1524760266.6019959,\n",
       "   'ifly_xArr': 1524760266.6019959,\n",
       "   'ifly_yArr': 1524760266.6019959}},\n",
       " {'data': {'ifly_tArr': 1524761237.8281677,\n",
       "   'ifly_xArr': 2.9700000000000002,\n",
       "   'ifly_yArr': 0.97572289616235597},\n",
       "  'time': 1524761237.8281674,\n",
       "  'timestamps': {'ifly_tArr': 1524760269.0092189,\n",
       "   'ifly_xArr': 1524760269.0092189,\n",
       "   'ifly_yArr': 1524760269.0092189}},\n",
       " {'data': {'ifly_tArr': 1524761237.8315523,\n",
       "   'ifly_xArr': 5.0700000000000003,\n",
       "   'ifly_yArr': 0.79502555886167692},\n",
       "  'time': 1524761237.831552,\n",
       "  'timestamps': {'ifly_tArr': 1524760271.417717,\n",
       "   'ifly_xArr': 1524760271.417717,\n",
       "   'ifly_yArr': 1524760271.417717}},\n",
       " {'data': {'ifly_tArr': 1524761237.8347042,\n",
       "   'ifly_xArr': 7.1699999999999999,\n",
       "   'ifly_yArr': 0.79502555886167692},\n",
       "  'time': 1524761237.834704,\n",
       "  'timestamps': {'ifly_tArr': 1524760273.825012,\n",
       "   'ifly_xArr': 1524760273.825012,\n",
       "   'ifly_yArr': 1524760273.825012}}]"
      ]
     },
     "execution_count": 11,
     "metadata": {},
     "output_type": "execute_result"
    }
   ],
   "source": [
    "list(ifly.collect())"
   ]
  },
  {
   "cell_type": "code",
   "execution_count": 12,
   "metadata": {},
   "outputs": [
    {
     "data": {
      "text/plain": [
       "('0881ef90-0729-49e2-9235-f713c5c959e4',)"
      ]
     },
     "execution_count": 12,
     "metadata": {},
     "output_type": "execute_result"
    }
   ],
   "source": [
    "RE(bp.fly([ifly]), md=dict(purpose=\"develop Flyer for APS fly scans\"))"
   ]
  },
  {
   "cell_type": "code",
   "execution_count": null,
   "metadata": {
    "collapsed": true
   },
   "outputs": [],
   "source": []
  }
 ],
 "metadata": {
  "kernelspec": {
   "display_name": "Python 3",
   "language": "python",
   "name": "python3"
  },
  "language_info": {
   "codemirror_mode": {
    "name": "ipython",
    "version": 3
   },
   "file_extension": ".py",
   "mimetype": "text/x-python",
   "name": "python",
   "nbconvert_exporter": "python",
   "pygments_lexer": "ipython3",
   "version": "3.6.3"
  }
 },
 "nbformat": 4,
 "nbformat_minor": 2
}
